{
  "nbformat": 4,
  "nbformat_minor": 0,
  "metadata": {
    "kernelspec": {
      "display_name": "Python 3",
      "language": "python",
      "name": "python3"
    },
    "language_info": {
      "codemirror_mode": {
        "name": "ipython",
        "version": 3
      },
      "file_extension": ".py",
      "mimetype": "text/x-python",
      "name": "python",
      "nbconvert_exporter": "python",
      "pygments_lexer": "ipython3",
      "version": "3.8.8"
    },
    "colab": {
      "name": "feature_eng.ipynb",
      "provenance": []
    }
  },
  "cells": [
    {
      "cell_type": "markdown",
      "metadata": {
        "id": "m7yHNE8s3bJt"
      },
      "source": [
        "## 2. Feature Extraction"
      ]
    },
    {
      "cell_type": "markdown",
      "metadata": {
        "id": "9iFaptSx4DeY"
      },
      "source": [
        "In this notebook we will extract feature needed for model training using event labeled dataset produced from data wrangling notebook."
      ]
    },
    {
      "cell_type": "markdown",
      "metadata": {
        "id": "edMlW5nL4AaZ"
      },
      "source": [
        "### Setup Prerequisite"
      ]
    },
    {
      "cell_type": "code",
      "metadata": {
        "colab": {
          "base_uri": "https://localhost:8080/"
        },
        "id": "tnMpp_lsyLv-",
        "outputId": "2495eed5-3a17-4c9e-95f4-66afceb03ea7"
      },
      "source": [
        "!pip install pyspark"
      ],
      "execution_count": null,
      "outputs": [
        {
          "output_type": "stream",
          "text": [
            "Collecting pyspark\n",
            "\u001b[?25l  Downloading https://files.pythonhosted.org/packages/45/b0/9d6860891ab14a39d4bddf80ba26ce51c2f9dc4805e5c6978ac0472c120a/pyspark-3.1.1.tar.gz (212.3MB)\n",
            "\u001b[K     |████████████████████████████████| 212.3MB 71kB/s \n",
            "\u001b[?25hCollecting py4j==0.10.9\n",
            "\u001b[?25l  Downloading https://files.pythonhosted.org/packages/9e/b6/6a4fb90cd235dc8e265a6a2067f2a2c99f0d91787f06aca4bcf7c23f3f80/py4j-0.10.9-py2.py3-none-any.whl (198kB)\n",
            "\u001b[K     |████████████████████████████████| 204kB 19.4MB/s \n",
            "\u001b[?25hBuilding wheels for collected packages: pyspark\n",
            "  Building wheel for pyspark (setup.py) ... \u001b[?25l\u001b[?25hdone\n",
            "  Created wheel for pyspark: filename=pyspark-3.1.1-py2.py3-none-any.whl size=212767604 sha256=b86902bb7a444e7a56a7bb964cc3d149ca77742f10cecb40617ab217a47e6ab7\n",
            "  Stored in directory: /root/.cache/pip/wheels/0b/90/c0/01de724414ef122bd05f056541fb6a0ecf47c7ca655f8b3c0f\n",
            "Successfully built pyspark\n",
            "Installing collected packages: py4j, pyspark\n",
            "Successfully installed py4j-0.10.9 pyspark-3.1.1\n"
          ],
          "name": "stdout"
        }
      ]
    },
    {
      "cell_type": "code",
      "metadata": {
        "colab": {
          "base_uri": "https://localhost:8080/"
        },
        "id": "aeKTM2Z2yOpX",
        "outputId": "6c8a763c-7d8b-41d1-f255-1d0fb1cc2ba6"
      },
      "source": [
        "from google.colab import drive\r\n",
        "drive.mount('/content/drive')"
      ],
      "execution_count": null,
      "outputs": [
        {
          "output_type": "stream",
          "text": [
            "Mounted at /content/drive\n"
          ],
          "name": "stdout"
        }
      ]
    },
    {
      "cell_type": "markdown",
      "metadata": {
        "id": "lRupuGbT4iWI"
      },
      "source": [
        "### Import Pyspark, Initiati Spark and Load Dataframe"
      ]
    },
    {
      "cell_type": "code",
      "metadata": {
        "id": "4WdL_IhUyD5y"
      },
      "source": [
        "from pyspark.sql import SparkSession\n",
        "import pyspark.sql.functions as F\n",
        "import pyspark.sql.types as T\n",
        "from functools import reduce"
      ],
      "execution_count": null,
      "outputs": []
    },
    {
      "cell_type": "code",
      "metadata": {
        "id": "6s9TVbfzyD59"
      },
      "source": [
        "spark = SparkSession.builder.appName('sparkify') \\\n",
        "    .config('spark.driver.maxResultSize', '3g') \\\n",
        "    .getOrCreate()"
      ],
      "execution_count": null,
      "outputs": []
    },
    {
      "cell_type": "code",
      "metadata": {
        "colab": {
          "base_uri": "https://localhost:8080/"
        },
        "id": "n_VrHOvlyD5-",
        "outputId": "07227ddc-cee1-4617-f5b7-7d9ce654b18d"
      },
      "source": [
        "df = spark.read.parquet(\"/content/drive/MyDrive/datasets/dsnd-sparkify/event_labeled.parquet\")\n",
        "df = df.drop('userIdTemp')\n",
        "df.printSchema()"
      ],
      "execution_count": null,
      "outputs": [
        {
          "output_type": "stream",
          "text": [
            "root\n",
            " |-- userId: string (nullable = true)\n",
            " |-- up_ts: timestamp (nullable = true)\n",
            " |-- down_ts: string (nullable = true)\n",
            " |-- isChurn: boolean (nullable = true)\n",
            " |-- artist: string (nullable = true)\n",
            " |-- auth: string (nullable = true)\n",
            " |-- firstName: string (nullable = true)\n",
            " |-- gender: string (nullable = true)\n",
            " |-- itemInSession: long (nullable = true)\n",
            " |-- lastName: string (nullable = true)\n",
            " |-- length: double (nullable = true)\n",
            " |-- level: string (nullable = true)\n",
            " |-- location: string (nullable = true)\n",
            " |-- method: string (nullable = true)\n",
            " |-- page: string (nullable = true)\n",
            " |-- registration: long (nullable = true)\n",
            " |-- sessionId: long (nullable = true)\n",
            " |-- song: string (nullable = true)\n",
            " |-- status: long (nullable = true)\n",
            " |-- userAgent: string (nullable = true)\n",
            " |-- ts: timestamp (nullable = true)\n",
            "\n"
          ],
          "name": "stdout"
        }
      ]
    },
    {
      "cell_type": "markdown",
      "metadata": {
        "id": "1cY-I9qK5HDm"
      },
      "source": [
        "### Create Functions to Join Multiple Dataframe"
      ]
    },
    {
      "cell_type": "code",
      "metadata": {
        "id": "e83sWn9dyD6A"
      },
      "source": [
        "def change_colname_join_df(join_df, suffix='_temp'):\n",
        "    '''\n",
        "    INPUT:\n",
        "    join_df - dataframe on the right side of join\n",
        "    suffix - added string on each column name\n",
        "\n",
        "    OUTPUT:\n",
        "    res_df - dataframe with renamed column\n",
        "\n",
        "    | col_1 | col_ 2 |  -->  | col_1_temp | col_ 2_temp |\n",
        "    '''\n",
        "    res_df = join_df\n",
        "    for col_name in join_df.columns:\n",
        "        res_df = res_df.withColumnRenamed(col_name, col_name + suffix)\n",
        "    \n",
        "    return res_df\n",
        "\n",
        "def remove_cols_suffix(df1, suffix=\"_temp\"):\n",
        "    '''\n",
        "    INPUT:\n",
        "    df1 - dataframe with suffix column\n",
        "\n",
        "    OUTPUT:\n",
        "    result - dataframe without suffix column\n",
        "\n",
        "    | col_1_temp | col_ 2_temp |  -->  | col_1 | col_ 2 |\n",
        "    '''\n",
        "    for col in df1.columns:\n",
        "        if suffix in col:\n",
        "            df1 = df1.withColumnRenamed(col, col[:len(col) - len(suffix)])\n",
        "    \n",
        "    return df1\n",
        "\n",
        "\n",
        "def chain_and(df1, df2, key_cols, suffix=\"_temp\"):\n",
        "    '''\n",
        "    DESCRIPTION:\n",
        "    create chaining and condition for joining\n",
        "    (df1.col1 == df2.col1_suffix) & (df1.col2 == df2.col2_suffix)\n",
        "    \n",
        "    INPUT:\n",
        "    df1 - left dataframe\n",
        "    df2 - right dataframe\n",
        "    key_cols - columns name for join conditions\n",
        "    suffix - columns name suffix\n",
        "\n",
        "    OUTPUT:\n",
        "    res - chain and for join\n",
        "    '''\n",
        "    for i, col in enumerate(key_cols):\n",
        "        if i == 0:\n",
        "            res = df1[col] == df2[col + suffix]\n",
        "        else:\n",
        "            res = res & (df1[col] == df2[col + suffix])\n",
        "    \n",
        "    return res\n",
        "\n",
        "def chain_left_join(df1, dfs, key_cols, suffix=\"_temp\", \n",
        "                    path=\"/content/drive/MyDrive/datasets/dsnd-sparkify/join_temp\"):\n",
        "    '''\n",
        "    INPUT:\n",
        "    df1 - left dataframe\n",
        "    dfs - list of right dataframes\n",
        "    key_cols - columns name for join conditions\n",
        "    suffix - columns name suffix\n",
        "\n",
        "    OUTPUT:\n",
        "    result - dataframe after chain join\n",
        "    '''\n",
        "    for i, df_temp in enumerate(dfs):\n",
        "        # get left dataframe\n",
        "        if i == 0:\n",
        "            res_df = df1\n",
        "        else:\n",
        "            res_df = spark.read.parquet(path + \"_\" + str(i - 1) + \".parquet\")\n",
        "        \n",
        "        # change right dataframe columns name\n",
        "        df_temp = change_colname_join_df(df_temp)\n",
        "\n",
        "        # join and save\n",
        "        res_df = res_df.join(df_temp, chain_and(res_df, df_temp, key_cols), how=\"left\") \\\n",
        "            .drop(key_cols[0] + suffix).drop(key_cols[1] + suffix)\n",
        "        res_df = remove_cols_suffix(res_df)\n",
        "        \n",
        "        res_df.coalesce(1).write.mode(\"overwrite\").parquet(path + \"_\" + str(i) + \".parquet\")\n",
        "    \n",
        "    return spark.read.parquet(path + \"_\" + str(len(dfs) - 1) + \".parquet\")"
      ],
      "execution_count": null,
      "outputs": []
    },
    {
      "cell_type": "markdown",
      "metadata": {
        "id": "qomETnH45lHi"
      },
      "source": [
        "### Produce Features"
      ]
    },
    {
      "cell_type": "code",
      "metadata": {
        "id": "_Ubs12qBhJ-I",
        "colab": {
          "base_uri": "https://localhost:8080/"
        },
        "outputId": "114e1c20-8e34-45b9-a094-da1b3bc77eb8"
      },
      "source": [
        "# dataframe with the key columns (\"userId\" and \"up_ts\") and churn status\r\n",
        "key_df = df.select([\"userId\", \"up_ts\", \"isChurn\"]).groupBy([\"userId\", \"up_ts\"]) \\\r\n",
        "    .agg(F.max(\"isChurn\").alias(\"is_churn\"))\r\n",
        "\r\n",
        "key_df.show(5)"
      ],
      "execution_count": null,
      "outputs": [
        {
          "output_type": "stream",
          "text": [
            "+-------+-------------------+--------+\n",
            "| userId|              up_ts|is_churn|\n",
            "+-------+-------------------+--------+\n",
            "|1367536|2018-10-08 14:58:27|   false|\n",
            "|1322258|2018-10-08 23:28:14|    true|\n",
            "|1554972|2018-11-19 21:16:01|   false|\n",
            "|1655008|2018-10-25 06:50:45|   false|\n",
            "|1968237|2018-10-27 11:19:26|   false|\n",
            "+-------+-------------------+--------+\n",
            "only showing top 5 rows\n",
            "\n"
          ],
          "name": "stdout"
        }
      ]
    },
    {
      "cell_type": "code",
      "metadata": {
        "colab": {
          "base_uri": "https://localhost:8080/"
        },
        "id": "Iv_yZM1WyD6A",
        "outputId": "432300ef-93a4-4e29-8e79-fcbefaa0891f"
      },
      "source": [
        "# number of song heard in one subscription\n",
        "n_songs_play_df = df.filter(df.page == \"NextSong\").groupBy([\"userId\", \"up_ts\"]).count().withColumnRenamed(\"count\", \"n_songs\")\n",
        "n_songs_play_df.show(5)"
      ],
      "execution_count": null,
      "outputs": [
        {
          "output_type": "stream",
          "text": [
            "+-------+-------------------+-------+\n",
            "| userId|              up_ts|n_songs|\n",
            "+-------+-------------------+-------+\n",
            "|1367536|2018-10-08 14:58:27|   1806|\n",
            "|1322258|2018-10-08 23:28:14|    997|\n",
            "|1554972|2018-11-19 21:16:01|    472|\n",
            "|1655008|2018-10-25 06:50:45|    234|\n",
            "|1968237|2018-10-27 11:19:26|    700|\n",
            "+-------+-------------------+-------+\n",
            "only showing top 5 rows\n",
            "\n"
          ],
          "name": "stdout"
        }
      ]
    },
    {
      "cell_type": "code",
      "metadata": {
        "colab": {
          "base_uri": "https://localhost:8080/"
        },
        "id": "G8ZDfVYvyD6B",
        "outputId": "faa9d049-8478-4dae-bcc3-9179e1c2b109"
      },
      "source": [
        "# number of day in subscription\n",
        "maxdate_df = df.select(\"ts\").agg(F.max(df.ts))\n",
        "\n",
        "datediff_df = df.select([\"userId\", \"up_ts\", \"down_ts\", \"isChurn\"]).dropDuplicates() \\\n",
        "    .join(maxdate_df, ~df.userId.isNull(), how='left') \\\n",
        "    .withColumn(\"datediff\", \n",
        "        F.datediff(F.when(F.col(\"isChurn\"), F.col(\"down_ts\")).otherwise(F.col(\"max(ts)\").cast(T.TimestampType())), df.up_ts)) \\\n",
        "    .drop(\"max(ts)\")\n",
        "\n",
        "datediff_df.show(5)"
      ],
      "execution_count": null,
      "outputs": [
        {
          "output_type": "stream",
          "text": [
            "+-------+-------------------+-------------------+-------+--------+\n",
            "| userId|              up_ts|            down_ts|isChurn|datediff|\n",
            "+-------+-------------------+-------------------+-------+--------+\n",
            "|1111091|2018-11-27 17:43:31|2099-12-31 00:00:00|  false|       3|\n",
            "|1161080|2018-10-26 19:14:14|2018-11-23 21:55:06|   true|      28|\n",
            "|1291366|2018-10-01 04:22:41|2099-12-31 00:00:00|  false|      60|\n",
            "|1335330|2018-11-26 15:00:33|2099-12-31 00:00:00|  false|       4|\n",
            "|1721316|2018-10-11 17:19:44|2099-12-31 00:00:00|  false|      50|\n",
            "+-------+-------------------+-------------------+-------+--------+\n",
            "only showing top 5 rows\n",
            "\n"
          ],
          "name": "stdout"
        }
      ]
    },
    {
      "cell_type": "code",
      "metadata": {
        "colab": {
          "base_uri": "https://localhost:8080/"
        },
        "id": "Kg-A_r85yD6B",
        "outputId": "ab7b5539-ed23-47bc-a125-8a7f9c36ce7f"
      },
      "source": [
        "# number of song played per day\n",
        "jdf = change_colname_join_df(datediff_df)\n",
        "songs_rate_df = df.filter(df.page == 'NextSong').groupBy([\"userId\", \"up_ts\"]).count() \\\n",
        "    .withColumnRenamed(\"count\", \"song_count\") \\\n",
        "    .join(jdf, (df.up_ts == jdf.up_ts_temp) & (df.userId == jdf.userId_temp)) \\\n",
        "    .drop(\"userId_temp\", \"up_ts_temp\", \"down_ts_temp\", \"isChurn_temp\") \\\n",
        "    .withColumn(\"song_rate\", F.col(\"song_count\") / F.when(F.col(\"datediff_temp\") == 0, 1).otherwise(F.col(\"datediff_temp\"))) \\\n",
        "    .withColumnRenamed(\"datediff_temp\", \"subs_duration\")\n",
        "\n",
        "songs_rate_df.show(5)"
      ],
      "execution_count": null,
      "outputs": [
        {
          "output_type": "stream",
          "text": [
            "+-------+-------------------+----------+-------------+------------------+\n",
            "| userId|              up_ts|song_count|subs_duration|         song_rate|\n",
            "+-------+-------------------+----------+-------------+------------------+\n",
            "|1071843|2018-11-08 13:16:59|      1190|           22| 54.09090909090909|\n",
            "|1120784|2018-10-11 14:16:28|      1502|           50|             30.04|\n",
            "|1128522|2018-11-13 17:46:22|       203|            2|             101.5|\n",
            "|1130061|2018-10-11 20:04:50|        96|           50|              1.92|\n",
            "|1135039|2018-10-04 11:31:06|       643|           57|11.280701754385966|\n",
            "+-------+-------------------+----------+-------------+------------------+\n",
            "only showing top 5 rows\n",
            "\n"
          ],
          "name": "stdout"
        }
      ]
    },
    {
      "cell_type": "code",
      "metadata": {
        "id": "EQuvZiOoyD6C",
        "colab": {
          "base_uri": "https://localhost:8080/"
        },
        "outputId": "e12cc583-4f8c-4431-b351-c87947bec055"
      },
      "source": [
        "# number of songs added to playlist\n",
        "n_playlist_df = df.select([\"userId\", \"up_ts\", \"page\"]).filter(df.page ==\"Add to Playlist\") \\\n",
        "    .groupBy([\"userId\", \"up_ts\"]) \\\n",
        "    .agg(F.count(F.col(\"page\")).alias(\"n_playlist\"))\n",
        "\n",
        "n_playlist_df.show(5)"
      ],
      "execution_count": null,
      "outputs": [
        {
          "output_type": "stream",
          "text": [
            "+-------+-------------------+----------+\n",
            "| userId|              up_ts|n_playlist|\n",
            "+-------+-------------------+----------+\n",
            "|1367536|2018-10-08 14:58:27|        39|\n",
            "|1322258|2018-10-08 23:28:14|        30|\n",
            "|1554972|2018-11-19 21:16:01|        21|\n",
            "|1655008|2018-10-25 06:50:45|        11|\n",
            "|1968237|2018-10-27 11:19:26|        15|\n",
            "+-------+-------------------+----------+\n",
            "only showing top 5 rows\n",
            "\n"
          ],
          "name": "stdout"
        }
      ]
    },
    {
      "cell_type": "code",
      "metadata": {
        "colab": {
          "base_uri": "https://localhost:8080/"
        },
        "id": "ie4bOYakyD6C",
        "outputId": "57fee009-59ea-448c-81cb-0f78485cd5c0"
      },
      "source": [
        "#number of thumbs up and down\n",
        "tup_tdown_df = df.select([\"userId\", \"up_ts\", \"down_ts\", \"isChurn\", \"page\"]).filter(df.page.isin([\"Thumbs Up\", \"Thumbs Down\"])) \\\n",
        "    .groupby([\"userId\", \"up_ts\", \"page\"]) \\\n",
        "    .agg(F.count(F.col(\"page\"))) \\\n",
        "    .groupby([\"userId\", \"up_ts\"]) \\\n",
        "    .pivot(\"page\") \\\n",
        "    .agg(F.first(\"count(page)\")) \\\n",
        "    .withColumnRenamed(\"Thumbs Down\", \"thumbs_down\") \\\n",
        "    .withColumnRenamed(\"Thumbs Up\", \"thumbs_up\")\n",
        "\n",
        "tup_tdown_df.show(5)"
      ],
      "execution_count": null,
      "outputs": [
        {
          "output_type": "stream",
          "text": [
            "+-------+-------------------+-----------+---------+\n",
            "| userId|              up_ts|thumbs_down|thumbs_up|\n",
            "+-------+-------------------+-----------+---------+\n",
            "|1427546|2018-10-17 22:52:00|          4|       25|\n",
            "|1712775|2018-11-23 17:56:01|          6|       35|\n",
            "|1358238|2018-10-02 14:25:59|         23|       64|\n",
            "|1071843|2018-11-08 13:16:59|          6|       51|\n",
            "|1554972|2018-11-19 21:16:01|          5|       35|\n",
            "+-------+-------------------+-----------+---------+\n",
            "only showing top 5 rows\n",
            "\n"
          ],
          "name": "stdout"
        }
      ]
    },
    {
      "cell_type": "code",
      "metadata": {
        "colab": {
          "base_uri": "https://localhost:8080/"
        },
        "id": "nvJgRr4ZzdC8",
        "outputId": "0d0fef31-62b1-470b-b09f-b629d38abb83"
      },
      "source": [
        "# average session length and number of session\r\n",
        "session_df = df.groupBy([\"userId\", \"up_ts\", \"sessionId\"]) \\\r\n",
        "    .agg(\r\n",
        "        F.min(df.ts).cast(T.LongType()).alias(\"min\"),\r\n",
        "        F.max(df.ts).cast(T.LongType()).alias(\"max\")\r\n",
        "    ) \\\r\n",
        "    .withColumn(\"diff\", (F.col(\"max\") - F.col(\"min\"))) \\\r\n",
        "    .groupBy([\"userId\", \"up_ts\"]) \\\r\n",
        "    .agg(F.avg(F.col(\"diff\")).alias(\"avg_sess_len\"), F.count(F.col(\"sessionId\")).alias(\"sess_count\"))\r\n",
        "\r\n",
        "session_df.show(5)"
      ],
      "execution_count": null,
      "outputs": [
        {
          "output_type": "stream",
          "text": [
            "+-------+-------------------+------------------+----------+\n",
            "| userId|              up_ts|      avg_sess_len|sess_count|\n",
            "+-------+-------------------+------------------+----------+\n",
            "|1914133|2018-10-09 11:11:55|           22340.0|        12|\n",
            "|1071843|2018-11-08 13:16:59|27020.272727272728|        11|\n",
            "|1582360|2018-10-04 15:48:38|19012.117647058825|        34|\n",
            "|1576394|2018-10-03 07:51:46| 19205.60606060606|        33|\n",
            "|1957517|2018-10-11 04:46:39|          28964.75|        12|\n",
            "+-------+-------------------+------------------+----------+\n",
            "only showing top 5 rows\n",
            "\n"
          ],
          "name": "stdout"
        }
      ]
    },
    {
      "cell_type": "code",
      "metadata": {
        "colab": {
          "base_uri": "https://localhost:8080/"
        },
        "id": "WZHp0-nRIpQP",
        "outputId": "9c50ec85-1ddc-4f12-a04d-ffd345194d30"
      },
      "source": [
        "# platform for each user\r\n",
        "device_df = df.select([\"userId\", \"up_ts\", \"userAgent\"]).withColumn(\"platform\",\r\n",
        "    F.when(df.userAgent.contains(\"Macintosh\"), \"macos\") \\\r\n",
        "    .when(df.userAgent.contains(\"Windows\"), \"windows\") \\\r\n",
        "    .when(df.userAgent.contains(\"iPad\"), \"ipad\") \\\r\n",
        "    .when(df.userAgent.contains(\"iPhone\"), \"iphone\") \\\r\n",
        "    .when(df.userAgent.contains(\"Linux\"), \"linux\")) \\\r\n",
        "    .groupBy([\"userId\", \"up_ts\", \"platform\"]) \\\r\n",
        "    .agg(F.count(\"platform\")) \\\r\n",
        "    .withColumn(\"isplatform\", ~F.isnull(F.col(\"count(platform)\"))) \\\r\n",
        "    .groupby([\"userId\", \"up_ts\"]) \\\r\n",
        "    .pivot(\"platform\") \\\r\n",
        "    .agg(F.max(\"isplatform\")) \\\r\n",
        "    .fillna(False)\r\n",
        "\r\n",
        "device_df.show(5)"
      ],
      "execution_count": null,
      "outputs": [
        {
          "output_type": "stream",
          "text": [
            "+-------+-------------------+-----+------+-----+-----+-------+\n",
            "| userId|              up_ts| ipad|iphone|linux|macos|windows|\n",
            "+-------+-------------------+-----+------+-----+-----+-------+\n",
            "|1130061|2018-10-11 20:04:50|false| false|false| true|  false|\n",
            "|1914133|2018-10-09 11:11:55|false| false|false| true|  false|\n",
            "|1128522|2018-11-13 17:46:22|false| false|false| true|  false|\n",
            "|1712775|2018-11-23 17:56:01|false| false|false|false|   true|\n",
            "|1568402|2018-10-18 14:26:47|false|  true|false|false|  false|\n",
            "+-------+-------------------+-----+------+-----+-----+-------+\n",
            "only showing top 5 rows\n",
            "\n"
          ],
          "name": "stdout"
        }
      ]
    },
    {
      "cell_type": "code",
      "metadata": {
        "colab": {
          "base_uri": "https://localhost:8080/"
        },
        "id": "4HkhmtZWCVe7",
        "outputId": "c420c6d1-48dc-4c8f-e501-a86be671353c"
      },
      "source": [
        "#state\r\n",
        "state_df = df.select([\"userId\",\"up_ts\",\"location\"]) \\\r\n",
        "    .withColumn(\"state\", F.split(df.location, ', ')[1]) \\\r\n",
        "    .groupBy([\"userId\", \"up_ts\", \"state\"]) \\\r\n",
        "    .agg(~F.isnull(F.count(F.col(\"state\")))) \\\r\n",
        "    .withColumnRenamed(\"(NOT (count(state) IS NULL))\", \"isstate\") \\\r\n",
        "    .groupBy([\"userId\", \"up_ts\"]) \\\r\n",
        "    .pivot(\"state\") \\\r\n",
        "    .agg(F.max(\"isstate\")) \\\r\n",
        "    .fillna(False)\r\n",
        "\r\n",
        "state_df.show(5)"
      ],
      "execution_count": null,
      "outputs": [
        {
          "output_type": "stream",
          "text": [
            "+-------+-------------------+-----+-----+-----+-----+-----+-----+-----+-----+-----+-----------+-----+-----+-----+-----+-----+-----+-----+-----+--------+--------+-----+-----+--------+-----+-----+-----+-----+-----+-----+-----+-----+-----+-----+-----+-----+-----+-----+-----+-----+-----+-----+-----+-----+-----+-----+-----+-----+-----+-----+-----+-----+-----+-----+-----+-----+-----+-----+-----+-----+-----+-----+--------+-----+--------+-----+-----+-----+-----+-----+-----+-----+-----------+-----+-----+-----+-----+-----+-----+-----+--------+-----+-----+-----+-----+-----+-----+-----+-----+-----+-----+-----+-----+-----+-----+--------+-----+-----+-----+-----+\n",
            "| userId|              up_ts|   AK|   AL|   AR|AR-MO|AR-OK|   AZ|   CA|   CO|   CT|DC-VA-MD-WV|   DE|   FL|   GA|GA-AL|GA-SC|   HI|   IA|IA-IL|IA-IL-MO|IA-NE-SD|   ID|   IL|IL-IN-WI|IL-MO|   IN|IN-KY|IN-MI|   KS|   KY|KY-IL|KY-IN|   LA|   MA|MA-CT|MA-NH|   MD|MD-DE|MD-WV|   ME|   MI|MI-WI|   MN|MN-WI|   MO|MO-IL|MO-KS|   MS|MS-LA|   MT|   NC|NC-SC|   ND|ND-MN|   NE|NE-IA|   NH|NH-VT|   NJ|   NM|   NV|   NY|NY-NJ-PA|   OH|OH-KY-IN|OH-PA|   OK|   OR|OR-ID|OR-WA|   PA|PA-NJ|PA-NJ-DE-MD|RI-MA|   SC|SC-NC|   SD|   TN|TN-GA|TN-KY|TN-MS-AR|TN-VA|   TX|TX-AR|   UT|UT-ID|   VA|VA-NC|VA-WV|   VT|   WA|   WI|WI-MI|WI-MN|   WV|WV-KY-OH|WV-OH|WV-VA|   WY|WY-ID|\n",
            "+-------+-------------------+-----+-----+-----+-----+-----+-----+-----+-----+-----+-----------+-----+-----+-----+-----+-----+-----+-----+-----+--------+--------+-----+-----+--------+-----+-----+-----+-----+-----+-----+-----+-----+-----+-----+-----+-----+-----+-----+-----+-----+-----+-----+-----+-----+-----+-----+-----+-----+-----+-----+-----+-----+-----+-----+-----+-----+-----+-----+-----+-----+-----+-----+--------+-----+--------+-----+-----+-----+-----+-----+-----+-----+-----------+-----+-----+-----+-----+-----+-----+-----+--------+-----+-----+-----+-----+-----+-----+-----+-----+-----+-----+-----+-----+-----+-----+--------+-----+-----+-----+-----+\n",
            "|1441166|2018-11-20 06:16:50|false|false|false|false|false|false|false|false|false|      false|false|false|false|false|false|false|false|false|   false|   false|false|false|   false|false|false|false|false|false|false|false|false|false|false|false|false|false|false|false|false|false|false|false|false|false|false|false|false|false|false| true|false|false|false|false|false|false|false|false|false|false|false|   false|false|   false|false|false|false|false|false|false|false|      false|false|false|false|false|false|false|false|   false|false|false|false|false|false|false|false|false|false|false|false|false|false|false|   false|false|false|false|false|\n",
            "|1480286|2018-10-05 08:08:07|false|false|false|false|false|false|false|false|false|      false|false|false|false|false|false|false|false|false|   false|   false|false|false|   false|false|false|false|false|false|false|false|false|false|false|false|false|false|false|false|false|false|false|false|false|false|false|false|false|false|false|false|false|false|false|false|false|false|false|false|false|false| true|   false|false|   false|false|false|false|false|false|false|false|      false|false|false|false|false|false|false|false|   false|false|false|false|false|false|false|false|false|false|false|false|false|false|false|   false|false|false|false|false|\n",
            "|1407795|2018-10-21 07:32:32|false|false|false|false|false|false|false|false|false|      false|false|false|false|false|false|false|false|false|   false|   false|false|false|   false|false|false|false|false|false|false|false|false|false|false|false|false|false|false|false|false|false|false|false|false|false|false|false|false|false|false|false|false|false|false|false|false|false|false|false|false|false|false|   false|false|   false|false|false|false|false|false|false|false|      false|false|false|false|false|false|false|false|   false|false|false|false|false|false|false|false|false|false| true|false|false|false|false|   false|false|false|false|false|\n",
            "|1431971|2018-11-17 16:39:25|false|false|false|false|false|false| true|false|false|      false|false|false|false|false|false|false|false|false|   false|   false|false|false|   false|false|false|false|false|false|false|false|false|false|false|false|false|false|false|false|false|false|false|false|false|false|false|false|false|false|false|false|false|false|false|false|false|false|false|false|false|false|false|   false|false|   false|false|false|false|false|false|false|false|      false|false|false|false|false|false|false|false|   false|false|false|false|false|false|false|false|false|false|false|false|false|false|false|   false|false|false|false|false|\n",
            "|1638234|2018-10-03 18:09:53|false|false|false|false|false|false|false|false|false|      false|false|false|false|false|false|false|false|false|   false|   false|false|false|   false|false|false|false|false|false|false|false|false|false|false|false|false|false|false|false|false|false|false|false|false|false|false|false|false|false|false|false|false|false|false|false|false|false|false|false|false|false|false|    true|false|   false|false|false|false|false|false|false|false|      false|false|false|false|false|false|false|false|   false|false|false|false|false|false|false|false|false|false|false|false|false|false|false|   false|false|false|false|false|\n",
            "+-------+-------------------+-----+-----+-----+-----+-----+-----+-----+-----+-----+-----------+-----+-----+-----+-----+-----+-----+-----+-----+--------+--------+-----+-----+--------+-----+-----+-----+-----+-----+-----+-----+-----+-----+-----+-----+-----+-----+-----+-----+-----+-----+-----+-----+-----+-----+-----+-----+-----+-----+-----+-----+-----+-----+-----+-----+-----+-----+-----+-----+-----+-----+-----+--------+-----+--------+-----+-----+-----+-----+-----+-----+-----+-----------+-----+-----+-----+-----+-----+-----+-----+--------+-----+-----+-----+-----+-----+-----+-----+-----+-----+-----+-----+-----+-----+-----+--------+-----+-----+-----+-----+\n",
            "only showing top 5 rows\n",
            "\n"
          ],
          "name": "stdout"
        }
      ]
    },
    {
      "cell_type": "code",
      "metadata": {
        "id": "x5AzPoZFu7ay",
        "colab": {
          "base_uri": "https://localhost:8080/"
        },
        "outputId": "9367bc93-4cbe-493c-dbdc-4167be9cf217"
      },
      "source": [
        "# number of error, number of friend added, number of cancellation confirmation page seen\r\n",
        "pages_df = df.select([\"userId\", \"up_ts\", \"page\"]) \\\r\n",
        "    .filter(F.col(\"page\").isin([\"Error\", \"Add Friend\", \"Cancellation Confirmation\"])) \\\r\n",
        "    .groupby([\"userId\", \"up_ts\"]) \\\r\n",
        "    .agg(\r\n",
        "        F.count(F.when(F.col(\"page\") == \"Error\", 1)).alias(\"n_error\"),\r\n",
        "        F.count(F.when(F.col(\"page\") == \"Add Friend\", 1)).alias(\"n_friend_add\"),\r\n",
        "        F.count(F.when(F.col(\"page\") == \"Cancellation Confirmation\", 1)).alias(\"n_cancel_page\")\r\n",
        "        )\r\n",
        "pages.show(5)"
      ],
      "execution_count": null,
      "outputs": [
        {
          "output_type": "stream",
          "text": [
            "+-------+-------------------+-------+------------+-------------+\n",
            "| userId|              up_ts|n_error|n_friend_add|n_cancel_page|\n",
            "+-------+-------------------+-------+------------+-------------+\n",
            "|1367536|2018-10-08 14:58:27|      1|          43|            1|\n",
            "|1322258|2018-10-08 23:28:14|      1|          24|            0|\n",
            "|1554972|2018-11-19 21:16:01|      0|          15|            0|\n",
            "|1655008|2018-10-25 06:50:45|      0|           3|            0|\n",
            "|1968237|2018-10-27 11:19:26|      1|          13|            0|\n",
            "+-------+-------------------+-------+------------+-------------+\n",
            "only showing top 5 rows\n",
            "\n"
          ],
          "name": "stdout"
        }
      ]
    },
    {
      "cell_type": "code",
      "metadata": {
        "id": "AmZ6-YW2y8_6",
        "colab": {
          "base_uri": "https://localhost:8080/"
        },
        "outputId": "ddfa3f5c-422e-4727-9a72-854d92806ae7"
      },
      "source": [
        "# number of unique song\r\n",
        "n_unq_song_df = df.select([\"userId\", \"up_ts\", \"song\"]).distinct() \\\r\n",
        "    .groupby([\"userId\", \"up_ts\"]) \\\r\n",
        "    .agg(F.count(\"song\").alias(\"n_unq_song\"))\r\n",
        "\r\n",
        "n_unq_song_df.show(5)"
      ],
      "execution_count": null,
      "outputs": [
        {
          "output_type": "stream",
          "text": [
            "+-------+-------------------+----------+\n",
            "| userId|              up_ts|n_unq_song|\n",
            "+-------+-------------------+----------+\n",
            "|1322258|2018-10-08 23:28:14|       921|\n",
            "|1367536|2018-10-08 14:58:27|      1575|\n",
            "|1421594|2018-10-09 18:22:30|      1206|\n",
            "|1431971|2018-11-17 16:39:25|       448|\n",
            "|1468354|2018-10-24 02:01:02|       244|\n",
            "+-------+-------------------+----------+\n",
            "only showing top 5 rows\n",
            "\n"
          ],
          "name": "stdout"
        }
      ]
    },
    {
      "cell_type": "code",
      "metadata": {
        "id": "CSZO0ZXx0R0d",
        "colab": {
          "base_uri": "https://localhost:8080/"
        },
        "outputId": "8771a96f-f29f-4f27-dc10-7971c02d5611"
      },
      "source": [
        "# number of unique artist\r\n",
        "n_unq_artist_df = df.select([\"userId\", \"up_ts\", \"artist\"]).distinct() \\\r\n",
        "    .groupby([\"userId\", \"up_ts\"]) \\\r\n",
        "    .agg(F.count(\"artist\").alias(\"n_unq_artist\"))\r\n",
        "\r\n",
        "n_unq_artist_df.show(5)"
      ],
      "execution_count": null,
      "outputs": [
        {
          "output_type": "stream",
          "text": [
            "+-------+-------------------+------------+\n",
            "| userId|              up_ts|n_unq_artist|\n",
            "+-------+-------------------+------------+\n",
            "|1322258|2018-10-08 23:28:14|         741|\n",
            "|1367536|2018-10-08 14:58:27|        1176|\n",
            "|1421594|2018-10-09 18:22:30|         972|\n",
            "|1431971|2018-11-17 16:39:25|         390|\n",
            "|1468354|2018-10-24 02:01:02|         223|\n",
            "+-------+-------------------+------------+\n",
            "only showing top 5 rows\n",
            "\n"
          ],
          "name": "stdout"
        }
      ]
    },
    {
      "cell_type": "markdown",
      "metadata": {
        "id": "GfEzgK7K50Gr"
      },
      "source": [
        "### Chain Join Feature and Save the Result"
      ]
    },
    {
      "cell_type": "code",
      "metadata": {
        "colab": {
          "base_uri": "https://localhost:8080/"
        },
        "id": "JKzS61ysdahE",
        "outputId": "bbaab688-256d-499d-c6ef-5ae68a33d84f"
      },
      "source": [
        "# joining all feature into one table\r\n",
        "ml_df = chain_left_join(key_df,\r\n",
        "    [songs_rate_df, n_playlist_df, tup_tdown_df, session_df, device_df,\r\n",
        "        pages_df, n_unq_song_df, n_unq_artist_df], \r\n",
        "    [\"userId\", \"up_ts\"]) \\\r\n",
        "    .fillna(0)\r\n",
        "\r\n",
        "ml_df.show(5)"
      ],
      "execution_count": null,
      "outputs": [
        {
          "output_type": "stream",
          "text": [
            "+-------+-------------------+--------+----------+-------------+------------------+----------+-----------+---------+------------------+----------+-----+------+-----+-----+-------+-------+------------+-------------+----------+------------+\n",
            "| userId|              up_ts|is_churn|song_count|subs_duration|         song_rate|n_playlist|thumbs_down|thumbs_up|      avg_sess_len|sess_count| ipad|iphone|linux|macos|windows|n_error|n_friend_add|n_cancel_page|n_unq_song|n_unq_artist|\n",
            "+-------+-------------------+--------+----------+-------------+------------------+----------+-----------+---------+------------------+----------+-----+------+-----+-----+-------+-------+------------+-------------+----------+------------+\n",
            "|1071843|2018-11-08 13:16:59|   false|      1190|           22| 54.09090909090909|        39|          6|       51|27020.272727272728|        11|false| false|false| true|  false|      1|          32|            0|      1104|         902|\n",
            "|1120784|2018-10-11 14:16:28|   false|      1502|           50|             30.04|        45|         17|      122|14162.807692307691|        26|false| false|false|false|   true|      2|          24|            0|      1357|        1042|\n",
            "|1128522|2018-11-13 17:46:22|    true|       203|            2|             101.5|         9|          6|       12|17188.666666666668|         3|false| false|false| true|  false|      0|           4|            0|       198|         190|\n",
            "|1130061|2018-10-11 20:04:50|   false|        96|           50|              1.92|         4|          4|        3|           11930.5|         2|false| false|false| true|  false|      0|           2|            1|        96|          92|\n",
            "|1135039|2018-10-04 11:31:06|   false|       643|           57|11.280701754385966|        29|          4|       49|22156.285714285714|         7|false| false|false|false|   true|      2|          12|            0|       611|         513|\n",
            "+-------+-------------------+--------+----------+-------------+------------------+----------+-----------+---------+------------------+----------+-----+------+-----+-----+-------+-------+------------+-------------+----------+------------+\n",
            "only showing top 5 rows\n",
            "\n"
          ],
          "name": "stdout"
        }
      ]
    },
    {
      "cell_type": "code",
      "metadata": {
        "id": "YJ9PfWUQrZBF"
      },
      "source": [
        "ml_df.write.parquet(\"/content/drive/MyDrive/datasets/dsnd-sparkify/ml_df.parquet\")"
      ],
      "execution_count": null,
      "outputs": []
    }
  ]
}