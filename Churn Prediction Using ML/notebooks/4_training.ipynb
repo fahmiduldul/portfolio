{
  "nbformat": 4,
  "nbformat_minor": 0,
  "metadata": {
    "orig_nbformat": 2,
    "colab": {
      "name": "training.ipynb",
      "provenance": []
    },
    "kernelspec": {
      "name": "python3",
      "display_name": "Python 3"
    }
  },
  "cells": [
    {
      "cell_type": "markdown",
      "metadata": {
        "id": "6geHzXZ67cXj"
      },
      "source": [
        "## 4. Training"
      ]
    },
    {
      "cell_type": "markdown",
      "metadata": {
        "id": "faokFFT9FS47"
      },
      "source": [
        "In this part of notebook we will try to train the model using feature extracted dataset and do model evaluation to see how well it predicts churn"
      ]
    },
    {
      "cell_type": "markdown",
      "metadata": {
        "id": "h40s2Xu6Fvv4"
      },
      "source": [
        "### Setup Prerequisite"
      ]
    },
    {
      "cell_type": "code",
      "metadata": {
        "colab": {
          "base_uri": "https://localhost:8080/"
        },
        "id": "1GKcHtxR9BXm",
        "outputId": "9d01351c-7f91-46a6-b5ce-9f87b2ac4664"
      },
      "source": [
        "!pip install pyspark"
      ],
      "execution_count": 1,
      "outputs": [
        {
          "output_type": "stream",
          "text": [
            "Requirement already satisfied: pyspark in /usr/local/lib/python3.7/dist-packages (3.1.1)\n",
            "Requirement already satisfied: py4j==0.10.9 in /usr/local/lib/python3.7/dist-packages (from pyspark) (0.10.9)\n"
          ],
          "name": "stdout"
        }
      ]
    },
    {
      "cell_type": "code",
      "metadata": {
        "colab": {
          "base_uri": "https://localhost:8080/"
        },
        "id": "gcM8P6Qf9KuW",
        "outputId": "904f3be8-a596-4db1-f328-1d5b35ccae8f"
      },
      "source": [
        "from google.colab import drive\n",
        "drive.mount('/content/drive')"
      ],
      "execution_count": 2,
      "outputs": [
        {
          "output_type": "stream",
          "text": [
            "Drive already mounted at /content/drive; to attempt to forcibly remount, call drive.mount(\"/content/drive\", force_remount=True).\n"
          ],
          "name": "stdout"
        }
      ]
    },
    {
      "cell_type": "markdown",
      "metadata": {
        "id": "7tpxRRrfGL3u"
      },
      "source": [
        "### Import Needed Library, Initialize Spark and Load Dataframe"
      ]
    },
    {
      "cell_type": "code",
      "metadata": {
        "id": "PENBvBwp9QDX"
      },
      "source": [
        "from pyspark.sql import SparkSession\n",
        "import pyspark.sql.functions as F\n",
        "import pyspark.sql.types as T\n",
        "\n",
        "from pyspark.ml.classification import GBTClassifier, RandomForestClassifier\n",
        "from pyspark.ml.feature import VectorAssembler\n",
        "from pyspark.ml.evaluation import BinaryClassificationEvaluator\n",
        "from pyspark.ml import Pipeline\n",
        "from pyspark.ml.tuning import TrainValidationSplit, ParamGridBuilder\n",
        "\n",
        "from sklearn.metrics import accuracy_score, precision_score, recall_score, f1_score, roc_auc_score, confusion_matrix\n",
        "import pandas as pd\n",
        "import matplotlib.pyplot as plt\n",
        "import seaborn as sns"
      ],
      "execution_count": 3,
      "outputs": []
    },
    {
      "cell_type": "code",
      "metadata": {
        "id": "qUguiUJd-xFX"
      },
      "source": [
        "spark = SparkSession.builder.appName('sparkify-train').getOrCreate()"
      ],
      "execution_count": 4,
      "outputs": []
    },
    {
      "cell_type": "code",
      "metadata": {
        "colab": {
          "base_uri": "https://localhost:8080/"
        },
        "id": "XuIpWq-z_xm_",
        "outputId": "6a172255-98de-4f5e-c8d7-fcae91347431"
      },
      "source": [
        "# load data and change is_churn column into label column\n",
        "\n",
        "isOnColab = True # CHANGE THIS VARIABLE IF RUNNING ON DATAPROC\n",
        "\n",
        "path = '/content/drive/MyDrive/datasets/dsnd-sparkify/ml_df.parquet' if isOnColab else 'gs://udacity-dsnd/ml_df.parquet'\n",
        "df = spark.read.parquet(path)\n",
        "df = df.withColumn('label', F.when(F.col(\"is_churn\"), 1).otherwise(0))\n",
        "df.show(5)"
      ],
      "execution_count": 5,
      "outputs": [
        {
          "output_type": "stream",
          "text": [
            "+-------+-------------------+--------+----------+-------------+------------------+----------+-----------+---------+------------------+----------+-----+------+-----+-----+-------+-------+------------+-------------+----------+------------+-----+\n",
            "| userId|              up_ts|is_churn|song_count|subs_duration|         song_rate|n_playlist|thumbs_down|thumbs_up|      avg_sess_len|sess_count| ipad|iphone|linux|macos|windows|n_error|n_friend_add|n_cancel_page|n_unq_song|n_unq_artist|label|\n",
            "+-------+-------------------+--------+----------+-------------+------------------+----------+-----------+---------+------------------+----------+-----+------+-----+-----+-------+-------+------------+-------------+----------+------------+-----+\n",
            "|1071843|2018-11-08 13:16:59|   false|      1190|           22| 54.09090909090909|        39|          6|       51|27020.272727272728|        11|false| false|false| true|  false|      1|          32|            0|      1104|         902|    0|\n",
            "|1120784|2018-10-11 14:16:28|   false|      1502|           50|             30.04|        45|         17|      122|14162.807692307691|        26|false| false|false|false|   true|      2|          24|            0|      1357|        1042|    0|\n",
            "|1128522|2018-11-13 17:46:22|    true|       203|            2|             101.5|         9|          6|       12|17188.666666666668|         3|false| false|false| true|  false|      0|           4|            0|       198|         190|    1|\n",
            "|1130061|2018-10-11 20:04:50|   false|        96|           50|              1.92|         4|          4|        3|           11930.5|         2|false| false|false| true|  false|      0|           2|            1|        96|          92|    0|\n",
            "|1135039|2018-10-04 11:31:06|   false|       643|           57|11.280701754385966|        29|          4|       49|22156.285714285714|         7|false| false|false|false|   true|      2|          12|            0|       611|         513|    0|\n",
            "+-------+-------------------+--------+----------+-------------+------------------+----------+-----------+---------+------------------+----------+-----+------+-----+-----+-------+-------+------------+-------------+----------+------------+-----+\n",
            "only showing top 5 rows\n",
            "\n"
          ],
          "name": "stdout"
        }
      ]
    },
    {
      "cell_type": "markdown",
      "metadata": {
        "id": "ylNDE12FGkVa"
      },
      "source": [
        "### Vectorize Feature and Do Train Test Split"
      ]
    },
    {
      "cell_type": "code",
      "metadata": {
        "id": "5EfHC4lrrGTZ"
      },
      "source": [
        "# features columns\n",
        "feature_cols = df.columns[3:-1]\n",
        "\n",
        "assembler = VectorAssembler(inputCols=feature_cols, outputCol=\"features\")\n",
        "df = assembler.transform(df)\n",
        "\n",
        "# take only features and label column\n",
        "df = df.select([\"features\", \"label\"])"
      ],
      "execution_count": 6,
      "outputs": []
    },
    {
      "cell_type": "code",
      "metadata": {
        "id": "d5FA-3RtNBDH"
      },
      "source": [
        "train_df, test_df = df.randomSplit([0.9,0.1], seed=42)"
      ],
      "execution_count": 7,
      "outputs": []
    },
    {
      "cell_type": "code",
      "metadata": {
        "id": "pIDXeXPi98-C",
        "colab": {
          "base_uri": "https://localhost:8080/"
        },
        "outputId": "e244a7ad-9d14-4760-ebd2-3f6925a70444"
      },
      "source": [
        "print(\"train\")\n",
        "train_df.groupby(\"label\").count().show()\n",
        "\n",
        "print(\"test\")\n",
        "test_df.groupby(\"label\").count().show()"
      ],
      "execution_count": 8,
      "outputs": [
        {
          "output_type": "stream",
          "text": [
            "train\n",
            "+-----+-----+\n",
            "|label|count|\n",
            "+-----+-----+\n",
            "|    1| 4470|\n",
            "|    0| 9148|\n",
            "+-----+-----+\n",
            "\n",
            "test\n",
            "+-----+-----+\n",
            "|label|count|\n",
            "+-----+-----+\n",
            "|    1|  480|\n",
            "|    0| 1037|\n",
            "+-----+-----+\n",
            "\n"
          ],
          "name": "stdout"
        }
      ]
    },
    {
      "cell_type": "markdown",
      "metadata": {
        "id": "E_aLTZ5BHqIw"
      },
      "source": [
        "We have around 1:2 ratio between 1 and 0 label on both dataset. It shows that we have balanced train and test data split."
      ]
    },
    {
      "cell_type": "markdown",
      "metadata": {
        "id": "NLmhv25MH7kb"
      },
      "source": [
        "### Build Grid Search, Train Model and Predict Test Data"
      ]
    },
    {
      "cell_type": "markdown",
      "metadata": {
        "id": "dRFWxIzaR6Vh"
      },
      "source": [
        "In this case we will use gradient boosted tree (GBT) algorithm to predic churn. I use GBT because it has good accuracy but still give us reasonable explainability. For hyperparameter tuning, I tune the tree depth and the number of trees. Then we choose the best model using pyspark built-in BinaryClassificationEvaluator with areaUnderROC metric,"
      ]
    },
    {
      "cell_type": "code",
      "metadata": {
        "id": "aVC99NdqSkbW",
        "outputId": "e9241b17-e462-4f04-9c7e-65947ce83a00",
        "colab": {
          "base_uri": "https://localhost:8080/"
        }
      },
      "source": [
        "train_df.printSchema()"
      ],
      "execution_count": 9,
      "outputs": [
        {
          "output_type": "stream",
          "text": [
            "root\n",
            " |-- features: vector (nullable = true)\n",
            " |-- label: integer (nullable = false)\n",
            "\n"
          ],
          "name": "stdout"
        }
      ]
    },
    {
      "cell_type": "code",
      "metadata": {
        "id": "wTv5ivs0DeFY"
      },
      "source": [
        "# ML algorithm\n",
        "gbt = GBTClassifier() # GBT algorithm\n",
        "rf = RandomForestClassifier() # RF algorithm\n",
        "\n",
        "# Grid search parameter\n",
        "gbt_grid = ParamGridBuilder() \\\n",
        "    .addGrid(gbt.maxDepth, [5, 6, 7]) \\\n",
        "    .addGrid(gbt.maxIter, [15, 20, 25]) \\\n",
        "    .build()\n",
        "\n",
        "rf_grid = ParamGridBuilder() \\\n",
        "    .addGrid(rf.maxDepth, [5, 6, 7]) \\\n",
        "    .addGrid(rf.numTrees, [15, 20, 25]) \\\n",
        "    .build()\n",
        "\n",
        "# train validation split to search through all grid\n",
        "gbt_tvs = TrainValidationSplit(estimator=gbt,\n",
        "                            estimatorParamMaps=gbt_grid,\n",
        "                            evaluator=BinaryClassificationEvaluator(),\n",
        "                            trainRatio=0.75,\n",
        "                            seed=42)\n",
        "\n",
        "rf_tvs = TrainValidationSplit(estimator=rf,\n",
        "                            estimatorParamMaps=rf_grid,\n",
        "                            evaluator=BinaryClassificationEvaluator(),\n",
        "                            trainRatio=0.75,\n",
        "                            seed=42)"
      ],
      "execution_count": 10,
      "outputs": []
    },
    {
      "cell_type": "code",
      "metadata": {
        "id": "DHuzEdiboihn"
      },
      "source": [
        "# train model\n",
        "gbt_model = gbt_tvs.fit(train_df)\n",
        "rf_model = rf_tvs.fit(train_df)"
      ],
      "execution_count": 11,
      "outputs": []
    },
    {
      "cell_type": "code",
      "metadata": {
        "id": "GbMGwAhoOQly",
        "colab": {
          "base_uri": "https://localhost:8080/"
        },
        "outputId": "0fc6eb0d-9e66-41eb-d316-a0b600d13d7f"
      },
      "source": [
        "gbt_model.bestModel"
      ],
      "execution_count": 12,
      "outputs": [
        {
          "output_type": "execute_result",
          "data": {
            "text/plain": [
              "GBTClassificationModel: uid = GBTClassifier_c80ab44a55a9, numTrees=25, numClasses=2, numFeatures=18"
            ]
          },
          "metadata": {
            "tags": []
          },
          "execution_count": 12
        }
      ]
    },
    {
      "cell_type": "code",
      "metadata": {
        "id": "DiAfRJ7CZZBm",
        "outputId": "251dead6-9a29-4e96-b48a-41e22a54cee2",
        "colab": {
          "base_uri": "https://localhost:8080/"
        }
      },
      "source": [
        "rf_model.bestModel"
      ],
      "execution_count": 13,
      "outputs": [
        {
          "output_type": "execute_result",
          "data": {
            "text/plain": [
              "RandomForestClassificationModel: uid=RandomForestClassifier_7d6f43fec27e, numTrees=25, numClasses=2, numFeatures=18"
            ]
          },
          "metadata": {
            "tags": []
          },
          "execution_count": 13
        }
      ]
    },
    {
      "cell_type": "markdown",
      "metadata": {
        "id": "dk0LsOFYStcW"
      },
      "source": [
        "From the result above, the best model is using 25 trees and 7 depth"
      ]
    },
    {
      "cell_type": "code",
      "metadata": {
        "id": "dVOr7nfjfkxi",
        "colab": {
          "base_uri": "https://localhost:8080/"
        },
        "outputId": "9a66042a-e797-4564-eb4b-ce411a03b665"
      },
      "source": [
        "gbt_model.bestModel.featureImportances"
      ],
      "execution_count": 14,
      "outputs": [
        {
          "output_type": "execute_result",
          "data": {
            "text/plain": [
              "SparseVector(18, {0: 0.0182, 1: 0.3157, 2: 0.1394, 3: 0.0331, 4: 0.0631, 5: 0.0654, 6: 0.0718, 7: 0.0867, 8: 0.0022, 9: 0.0006, 10: 0.0052, 11: 0.0055, 12: 0.0015, 13: 0.0159, 14: 0.0308, 15: 0.1226, 16: 0.0107, 17: 0.0118})"
            ]
          },
          "metadata": {
            "tags": []
          },
          "execution_count": 14
        }
      ]
    },
    {
      "cell_type": "markdown",
      "metadata": {
        "id": "NKUp1fhoIfMh"
      },
      "source": [
        "As seen above, the most important feature in gradient boost model are number 1 (subscription duration) with value 0.2645, number 2 (songs heard per day of subscription) with value 0.1197, number 7 (sessions count) with value 0.087 and number 15 (cancel confirmation page visit) with value 0.109"
      ]
    },
    {
      "cell_type": "markdown",
      "metadata": {
        "id": "IRdGkgzlJot6"
      },
      "source": [
        "### Evaluate model"
      ]
    },
    {
      "cell_type": "markdown",
      "metadata": {
        "id": "PImw0mLjTUn5"
      },
      "source": [
        "Before evaluate the prediction I create function to ease evaluation later on"
      ]
    },
    {
      "cell_type": "code",
      "metadata": {
        "id": "O0jRiyXdE501"
      },
      "source": [
        "def evaluate(df, label_col='label', pred_col='prediction'):\n",
        "    '''\n",
        "    INPUT:\n",
        "    df - spark dataframe\n",
        "    label_col - name of label column\n",
        "    pred_col - name of prediction column\n",
        "\n",
        "    OUTPUT:\n",
        "    res - pandas dataframe of metrics\n",
        "    '''\n",
        "\n",
        "    temp_df = df.select([label_col, pred_col]).toPandas()\n",
        "    \n",
        "    return pd.DataFrame.from_dict({\n",
        "        \"accuracy\" : [accuracy_score(temp_df[label_col], temp_df[pred_col])],\n",
        "        \"precision\" : [precision_score(temp_df[label_col], temp_df[pred_col])],\n",
        "        \"recall\" : [recall_score(temp_df[label_col], temp_df[pred_col])],\n",
        "        \"f1\" : [f1_score(temp_df[label_col], temp_df[pred_col])],\n",
        "        \"roc_auc\" : [roc_auc_score(temp_df[label_col], temp_df[pred_col])],\n",
        "    })"
      ],
      "execution_count": 15,
      "outputs": []
    },
    {
      "cell_type": "code",
      "metadata": {
        "id": "Lw21yapEuc9F"
      },
      "source": [
        "# predict on test dataframe\n",
        "preds_gbt_df = gbt_model.transform(test_df)\n",
        "preds_rf_df = rf_model.transform(test_df)"
      ],
      "execution_count": 16,
      "outputs": []
    },
    {
      "cell_type": "code",
      "metadata": {
        "colab": {
          "base_uri": "https://localhost:8080/",
          "height": 78
        },
        "id": "n9XhLF4LAQj3",
        "outputId": "fd089c77-4f9d-4634-ec7d-656d160ab837"
      },
      "source": [
        "# metrics result\n",
        "evaluate(preds_gbt_df)"
      ],
      "execution_count": 17,
      "outputs": [
        {
          "output_type": "execute_result",
          "data": {
            "text/html": [
              "<div>\n",
              "<style scoped>\n",
              "    .dataframe tbody tr th:only-of-type {\n",
              "        vertical-align: middle;\n",
              "    }\n",
              "\n",
              "    .dataframe tbody tr th {\n",
              "        vertical-align: top;\n",
              "    }\n",
              "\n",
              "    .dataframe thead th {\n",
              "        text-align: right;\n",
              "    }\n",
              "</style>\n",
              "<table border=\"1\" class=\"dataframe\">\n",
              "  <thead>\n",
              "    <tr style=\"text-align: right;\">\n",
              "      <th></th>\n",
              "      <th>accuracy</th>\n",
              "      <th>precision</th>\n",
              "      <th>recall</th>\n",
              "      <th>f1</th>\n",
              "      <th>roc_auc</th>\n",
              "    </tr>\n",
              "  </thead>\n",
              "  <tbody>\n",
              "    <tr>\n",
              "      <th>0</th>\n",
              "      <td>0.779169</td>\n",
              "      <td>0.649485</td>\n",
              "      <td>0.65625</td>\n",
              "      <td>0.65285</td>\n",
              "      <td>0.746158</td>\n",
              "    </tr>\n",
              "  </tbody>\n",
              "</table>\n",
              "</div>"
            ],
            "text/plain": [
              "   accuracy  precision   recall       f1   roc_auc\n",
              "0  0.779169   0.649485  0.65625  0.65285  0.746158"
            ]
          },
          "metadata": {
            "tags": []
          },
          "execution_count": 17
        }
      ]
    },
    {
      "cell_type": "code",
      "metadata": {
        "id": "fx8nsq37aezY",
        "outputId": "8bd0f018-9404-40b3-f635-62b0fd6bc06f",
        "colab": {
          "base_uri": "https://localhost:8080/",
          "height": 78
        }
      },
      "source": [
        "evaluate(preds_rf_df)"
      ],
      "execution_count": 18,
      "outputs": [
        {
          "output_type": "execute_result",
          "data": {
            "text/html": [
              "<div>\n",
              "<style scoped>\n",
              "    .dataframe tbody tr th:only-of-type {\n",
              "        vertical-align: middle;\n",
              "    }\n",
              "\n",
              "    .dataframe tbody tr th {\n",
              "        vertical-align: top;\n",
              "    }\n",
              "\n",
              "    .dataframe thead th {\n",
              "        text-align: right;\n",
              "    }\n",
              "</style>\n",
              "<table border=\"1\" class=\"dataframe\">\n",
              "  <thead>\n",
              "    <tr style=\"text-align: right;\">\n",
              "      <th></th>\n",
              "      <th>accuracy</th>\n",
              "      <th>precision</th>\n",
              "      <th>recall</th>\n",
              "      <th>f1</th>\n",
              "      <th>roc_auc</th>\n",
              "    </tr>\n",
              "  </thead>\n",
              "  <tbody>\n",
              "    <tr>\n",
              "      <th>0</th>\n",
              "      <td>0.773896</td>\n",
              "      <td>0.650549</td>\n",
              "      <td>0.616667</td>\n",
              "      <td>0.633155</td>\n",
              "      <td>0.73167</td>\n",
              "    </tr>\n",
              "  </tbody>\n",
              "</table>\n",
              "</div>"
            ],
            "text/plain": [
              "   accuracy  precision    recall        f1  roc_auc\n",
              "0  0.773896   0.650549  0.616667  0.633155  0.73167"
            ]
          },
          "metadata": {
            "tags": []
          },
          "execution_count": 18
        }
      ]
    },
    {
      "cell_type": "code",
      "metadata": {
        "colab": {
          "base_uri": "https://localhost:8080/",
          "height": 336
        },
        "id": "YrBEolvJKJ61",
        "outputId": "daaddba7-9908-44df-942a-59239a18420b"
      },
      "source": [
        "# confusion matrix\n",
        "c_mat_gbt = confusion_matrix(preds_gbt_df.select(\"label\").toPandas(),\n",
        "                preds_gbt_df.select(\"prediction\").toPandas())\n",
        "c_mat_rf = confusion_matrix(preds_rf_df.select(\"label\").toPandas(),\n",
        "                preds_rf_df.select(\"prediction\").toPandas())\n",
        "\n",
        "\n",
        "fig, axes = plt.subplots(1,2, figsize=(15,5))\n",
        "\n",
        "sns.heatmap(c_mat_gbt, annot=True, fmt=\"d\", cmap=\"YlGnBu\", ax=axes[0])\n",
        "sns.heatmap(c_mat_rf, annot=True, fmt=\"d\", cmap=\"YlGnBu\", ax=axes[1])\n",
        "\n",
        "axes[0].title.set_text(\"GBT Model\")\n",
        "axes[1].title.set_text(\"RF Model\")"
      ],
      "execution_count": 30,
      "outputs": [
        {
          "output_type": "display_data",
          "data": {
            "image/png": "[encoded data removed]",
            "text/plain": [
              "<Figure size 1080x360 with 4 Axes>"
            ]
          },
          "metadata": {
            "tags": [],
            "needs_background": "light"
          }
        }
      ]
    },
    {
      "cell_type": "markdown",
      "metadata": {
        "id": "K6Kxtg8xMlbe"
      },
      "source": [
        "With metrics shown above, We got good f1 and roc auc score. But as you see in the confusion matrix, accuracy value is mostly driven by high true negative value. But We are more concerned about true positive value so we can prevent user from churning. If We want to see how good our model predict churn we can calculate with recall score (312 / (312 + 168)) and get the value of 65%."
      ]
    },
    {
      "cell_type": "markdown",
      "metadata": {
        "id": "jLIXsG4eMTEp"
      },
      "source": [
        "### Train Model with Weighted Dataset"
      ]
    },
    {
      "cell_type": "markdown",
      "metadata": {
        "id": "jSDXF0UWVCAB"
      },
      "source": [
        "Since we are more concerned on increase true positive value, I will use weighted dataset to retrain the model. If the label is negative, I give 0.7 value and positive 1 value."
      ]
    },
    {
      "cell_type": "code",
      "metadata": {
        "colab": {
          "base_uri": "https://localhost:8080/"
        },
        "id": "pvBRJxXIMfho",
        "outputId": "02cb7829-f841-445a-81f2-30fd65fa6c79"
      },
      "source": [
        "# add weight column\n",
        "train_df_w = train_df.withColumn(\"weight\", F.when(F.col(\"label\") == 1, 1).otherwise(0.7))\n",
        "train_df_w.show(5)"
      ],
      "execution_count": 20,
      "outputs": [
        {
          "output_type": "stream",
          "text": [
            "+--------------------+-----+------+\n",
            "|            features|label|weight|\n",
            "+--------------------+-----+------+\n",
            "|(18,[0,1,2,3,4,6,...|    0|   0.7|\n",
            "|(18,[0,1,2,3,4,6,...|    0|   0.7|\n",
            "|(18,[0,1,2,3,4,6,...|    0|   0.7|\n",
            "|(18,[0,1,2,3,4,6,...|    0|   0.7|\n",
            "|(18,[0,1,2,3,4,6,...|    0|   0.7|\n",
            "+--------------------+-----+------+\n",
            "only showing top 5 rows\n",
            "\n"
          ],
          "name": "stdout"
        }
      ]
    },
    {
      "cell_type": "markdown",
      "metadata": {
        "id": "ni85SprMVoDw"
      },
      "source": [
        "I use the same model, grid and validation method as before but We need to specify weight column name so they can use it in training process."
      ]
    },
    {
      "cell_type": "code",
      "metadata": {
        "id": "CQTarT_BMn8h"
      },
      "source": [
        "# gradient boosted tree algorithm\n",
        "gbt_w = GBTClassifier().setWeightCol(\"weight\")\n",
        "rf_w = RandomForestClassifier(weightCol=\"weight\")\n",
        "\n",
        "# train validation split to search through all grid\n",
        "gbt_tvs_w = TrainValidationSplit(estimator=gbt_w,\n",
        "                            estimatorParamMaps=gbt_grid,\n",
        "                            evaluator=BinaryClassificationEvaluator().setWeightCol(\"weight\"),\n",
        "                            trainRatio=0.75,\n",
        "                            seed=42)\n",
        "\n",
        "rf_tvs_w = TrainValidationSplit(estimator=rf_w,\n",
        "                            estimatorParamMaps=rf_grid,\n",
        "                            evaluator=BinaryClassificationEvaluator().setWeightCol(\"weight\"),\n",
        "                            trainRatio=0.75,\n",
        "                            seed=42)"
      ],
      "execution_count": 21,
      "outputs": []
    },
    {
      "cell_type": "code",
      "metadata": {
        "id": "zjSIa8NkNL9k"
      },
      "source": [
        "# train model with weighted dataset\n",
        "gbt_model_w = gbt_tvs_w.fit(train_df_w)\n",
        "rf_model_w = rf_tvs_w.fit(train_df_w)"
      ],
      "execution_count": 23,
      "outputs": []
    },
    {
      "cell_type": "code",
      "metadata": {
        "colab": {
          "base_uri": "https://localhost:8080/"
        },
        "id": "4KWYTtIpNkTC",
        "outputId": "100d7306-3043-480e-f1cc-f3c222acdccc"
      },
      "source": [
        "gbtw_model.bestModel"
      ],
      "execution_count": null,
      "outputs": [
        {
          "output_type": "execute_result",
          "data": {
            "text/plain": [
              "GBTClassificationModel: uid = GBTClassifier_9513161e1f7b, numTrees=20, numClasses=2, numFeatures=18"
            ]
          },
          "metadata": {
            "tags": []
          },
          "execution_count": 20
        }
      ]
    },
    {
      "cell_type": "markdown",
      "metadata": {
        "id": "pcy0881MWCWm"
      },
      "source": [
        "After training the model is using 20 trees and 7 tree depth"
      ]
    },
    {
      "cell_type": "code",
      "metadata": {
        "colab": {
          "base_uri": "https://localhost:8080/"
        },
        "id": "RFC7vkYFN6_h",
        "outputId": "2a7b77a5-2b63-49db-d825-984b2b34bd52"
      },
      "source": [
        "gbtw_model.bestModel.featureImportances"
      ],
      "execution_count": null,
      "outputs": [
        {
          "output_type": "execute_result",
          "data": {
            "text/plain": [
              "SparseVector(18, {0: 0.0045, 1: 0.368, 2: 0.1857, 3: 0.0058, 4: 0.0317, 5: 0.0386, 6: 0.0849, 7: 0.1224, 8: 0.0022, 9: 0.0009, 10: 0.0038, 11: 0.0001, 12: 0.0014, 13: 0.0039, 14: 0.0114, 15: 0.1271, 16: 0.0048, 17: 0.0028})"
            ]
          },
          "metadata": {
            "tags": []
          },
          "execution_count": 21
        }
      ]
    },
    {
      "cell_type": "markdown",
      "metadata": {
        "id": "yBJj7xsQWLvM"
      },
      "source": [
        "As seen above, the most influencing features are subscription duration, songs played per day, session count and number of cancellation confirmation page visited. The same as model before but with different value"
      ]
    },
    {
      "cell_type": "markdown",
      "metadata": {
        "id": "Eb3vdCbvWp1A"
      },
      "source": [
        "### Evaluate Weighted Model"
      ]
    },
    {
      "cell_type": "code",
      "metadata": {
        "id": "KJisshFMNyZH"
      },
      "source": [
        "# predict using weighted model\n",
        "preds_gbt_w_df = gbt_model_w.transform(test_df)\n",
        "preds_rf_w_df = rf_model_w.transform(test_df)"
      ],
      "execution_count": 24,
      "outputs": []
    },
    {
      "cell_type": "code",
      "metadata": {
        "colab": {
          "base_uri": "https://localhost:8080/",
          "height": 78
        },
        "id": "TDtqh2CdOH2n",
        "outputId": "ae95741f-739e-4754-8227-9fcce1acdef3"
      },
      "source": [
        "evaluate(preds_gbt_w_df)"
      ],
      "execution_count": 25,
      "outputs": [
        {
          "output_type": "execute_result",
          "data": {
            "text/html": [
              "<div>\n",
              "<style scoped>\n",
              "    .dataframe tbody tr th:only-of-type {\n",
              "        vertical-align: middle;\n",
              "    }\n",
              "\n",
              "    .dataframe tbody tr th {\n",
              "        vertical-align: top;\n",
              "    }\n",
              "\n",
              "    .dataframe thead th {\n",
              "        text-align: right;\n",
              "    }\n",
              "</style>\n",
              "<table border=\"1\" class=\"dataframe\">\n",
              "  <thead>\n",
              "    <tr style=\"text-align: right;\">\n",
              "      <th></th>\n",
              "      <th>accuracy</th>\n",
              "      <th>precision</th>\n",
              "      <th>recall</th>\n",
              "      <th>f1</th>\n",
              "      <th>roc_auc</th>\n",
              "    </tr>\n",
              "  </thead>\n",
              "  <tbody>\n",
              "    <tr>\n",
              "      <th>0</th>\n",
              "      <td>0.792353</td>\n",
              "      <td>0.646018</td>\n",
              "      <td>0.760417</td>\n",
              "      <td>0.698565</td>\n",
              "      <td>0.783776</td>\n",
              "    </tr>\n",
              "  </tbody>\n",
              "</table>\n",
              "</div>"
            ],
            "text/plain": [
              "   accuracy  precision    recall        f1   roc_auc\n",
              "0  0.792353   0.646018  0.760417  0.698565  0.783776"
            ]
          },
          "metadata": {
            "tags": []
          },
          "execution_count": 25
        }
      ]
    },
    {
      "cell_type": "code",
      "metadata": {
        "id": "Mpg3HywZdb4K",
        "outputId": "73974a3d-54ec-4778-d188-fe0c67e2f538",
        "colab": {
          "base_uri": "https://localhost:8080/",
          "height": 78
        }
      },
      "source": [
        "evaluate(preds_rf_w_df)"
      ],
      "execution_count": 26,
      "outputs": [
        {
          "output_type": "execute_result",
          "data": {
            "text/html": [
              "<div>\n",
              "<style scoped>\n",
              "    .dataframe tbody tr th:only-of-type {\n",
              "        vertical-align: middle;\n",
              "    }\n",
              "\n",
              "    .dataframe tbody tr th {\n",
              "        vertical-align: top;\n",
              "    }\n",
              "\n",
              "    .dataframe thead th {\n",
              "        text-align: right;\n",
              "    }\n",
              "</style>\n",
              "<table border=\"1\" class=\"dataframe\">\n",
              "  <thead>\n",
              "    <tr style=\"text-align: right;\">\n",
              "      <th></th>\n",
              "      <th>accuracy</th>\n",
              "      <th>precision</th>\n",
              "      <th>recall</th>\n",
              "      <th>f1</th>\n",
              "      <th>roc_auc</th>\n",
              "    </tr>\n",
              "  </thead>\n",
              "  <tbody>\n",
              "    <tr>\n",
              "      <th>0</th>\n",
              "      <td>0.763349</td>\n",
              "      <td>0.613936</td>\n",
              "      <td>0.679167</td>\n",
              "      <td>0.644906</td>\n",
              "      <td>0.740741</td>\n",
              "    </tr>\n",
              "  </tbody>\n",
              "</table>\n",
              "</div>"
            ],
            "text/plain": [
              "   accuracy  precision    recall        f1   roc_auc\n",
              "0  0.763349   0.613936  0.679167  0.644906  0.740741"
            ]
          },
          "metadata": {
            "tags": []
          },
          "execution_count": 26
        }
      ]
    },
    {
      "cell_type": "code",
      "metadata": {
        "colab": {
          "base_uri": "https://localhost:8080/",
          "height": 336
        },
        "id": "X8z2Wfm8OMSP",
        "outputId": "b3da275b-697f-4d75-ad37-3bbdd6cec61d"
      },
      "source": [
        "# confusion matrix\n",
        "c_mat_gbt_w = confusion_matrix(preds_gbt_w_df.select(\"label\").toPandas(),\n",
        "                preds_gbt_w_df.select(\"prediction\").toPandas())\n",
        "c_mat_rf_w = confusion_matrix(preds_rf_w_df.select(\"label\").toPandas(),\n",
        "                preds_rf_w_df.select(\"prediction\").toPandas())\n",
        "\n",
        "\n",
        "fig, axes = plt.subplots(1,2, figsize=(15,5))\n",
        "\n",
        "sns.heatmap(c_mat_gbt_w, annot=True, fmt=\"d\", cmap=\"YlGnBu\", ax=axes[0])\n",
        "sns.heatmap(c_mat_rf_w, annot=True, fmt=\"d\", cmap=\"YlGnBu\", ax=axes[1])\n",
        "\n",
        "axes[0].title.set_text(\"GBT Weighted Model\")\n",
        "axes[1].title.set_text(\"RF Weighted Model\")"
      ],
      "execution_count": 31,
      "outputs": [
        {
          "output_type": "display_data",
          "data": {
            "image/png": "[encoded data removed]",
            "text/plain": [
              "<Figure size 1080x360 with 4 Axes>"
            ]
          },
          "metadata": {
            "tags": [],
            "needs_background": "light"
          }
        }
      ]
    },
    {
      "cell_type": "markdown",
      "metadata": {
        "id": "vHbH6xJsXPlr"
      },
      "source": [
        "As seen above all the metrics produce better result, especially recall score. But on the down side the number of true negative reduced."
      ]
    }
  ]
}