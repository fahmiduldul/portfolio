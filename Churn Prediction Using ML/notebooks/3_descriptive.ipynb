{
  "nbformat": 4,
  "nbformat_minor": 0,
  "metadata": {
    "orig_nbformat": 2,
    "colab": {
      "name": "descriptive.ipynb",
      "provenance": []
    },
    "kernelspec": {
      "name": "python3",
      "display_name": "Python 3"
    }
  },
  "cells": [
    {
      "cell_type": "markdown",
      "metadata": {
        "id": "QP6q3WJAsYVY"
      },
      "source": [
        "## 3. Descriptive Analysis"
      ]
    },
    {
      "cell_type": "markdown",
      "metadata": {
        "id": "rXPNYGVCt6M8"
      },
      "source": [
        "In this part we would like to get descriptive analysis. The dataset we use are labeled event dataframe from wrangling notebook and ml dataframe with features from feature extraction notebook"
      ]
    },
    {
      "cell_type": "markdown",
      "metadata": {
        "id": "f1wdt4P3sqRD"
      },
      "source": [
        "### Setup Prerequisite"
      ]
    },
    {
      "cell_type": "code",
      "metadata": {
        "id": "5Czee5liVVwC",
        "colab": {
          "base_uri": "https://localhost:8080/"
        },
        "outputId": "241a3361-fc21-4d61-a172-ac53feb52102"
      },
      "source": [
        "!pip install pyspark"
      ],
      "execution_count": 1,
      "outputs": [
        {
          "output_type": "stream",
          "text": [
            "Collecting pyspark\n",
            "\u001b[?25l  Downloading https://files.pythonhosted.org/packages/45/b0/9d6860891ab14a39d4bddf80ba26ce51c2f9dc4805e5c6978ac0472c120a/pyspark-3.1.1.tar.gz (212.3MB)\n",
            "\u001b[K     |████████████████████████████████| 212.3MB 69kB/s \n",
            "\u001b[?25hCollecting py4j==0.10.9\n",
            "\u001b[?25l  Downloading https://files.pythonhosted.org/packages/9e/b6/6a4fb90cd235dc8e265a6a2067f2a2c99f0d91787f06aca4bcf7c23f3f80/py4j-0.10.9-py2.py3-none-any.whl (198kB)\n",
            "\u001b[K     |████████████████████████████████| 204kB 17.6MB/s \n",
            "\u001b[?25hBuilding wheels for collected packages: pyspark\n",
            "  Building wheel for pyspark (setup.py) ... \u001b[?25l\u001b[?25hdone\n",
            "  Created wheel for pyspark: filename=pyspark-3.1.1-py2.py3-none-any.whl size=212767604 sha256=873d31397242e7f46d1c42e435747c471d035cad4617b6d65dc839b68bab302d\n",
            "  Stored in directory: /root/.cache/pip/wheels/0b/90/c0/01de724414ef122bd05f056541fb6a0ecf47c7ca655f8b3c0f\n",
            "Successfully built pyspark\n",
            "Installing collected packages: py4j, pyspark\n",
            "Successfully installed py4j-0.10.9 pyspark-3.1.1\n"
          ],
          "name": "stdout"
        }
      ]
    },
    {
      "cell_type": "code",
      "metadata": {
        "id": "cVf8yuh3VVwK",
        "colab": {
          "base_uri": "https://localhost:8080/"
        },
        "outputId": "22569d85-dfbe-420e-c0a4-2cf54ef2bce4"
      },
      "source": [
        "from google.colab import drive\n",
        "drive.mount('/content/drive')"
      ],
      "execution_count": 2,
      "outputs": [
        {
          "output_type": "stream",
          "text": [
            "Mounted at /content/drive\n"
          ],
          "name": "stdout"
        }
      ]
    },
    {
      "cell_type": "markdown",
      "metadata": {
        "id": "RPzOAmEps_eX"
      },
      "source": [
        "### Import Needed Library and Initialiaze PySpark"
      ]
    },
    {
      "cell_type": "code",
      "metadata": {
        "id": "uEZDNdxsVVwM"
      },
      "source": [
        "from pyspark.sql import SparkSession\n",
        "import pyspark.sql.functions as F\n",
        "import pyspark.sql.types as T\n",
        "import matplotlib.pyplot as plt"
      ],
      "execution_count": 3,
      "outputs": []
    },
    {
      "cell_type": "code",
      "metadata": {
        "id": "oSREc3xZWB4x"
      },
      "source": [
        "spark = SparkSession.builder.appName(\"sparkify\").getOrCreate()"
      ],
      "execution_count": 4,
      "outputs": []
    },
    {
      "cell_type": "markdown",
      "metadata": {
        "id": "9MDWhdKttfVQ"
      },
      "source": [
        "### Load Dataset from Blob"
      ]
    },
    {
      "cell_type": "code",
      "metadata": {
        "id": "RoquwyplVrD2"
      },
      "source": [
        "# load data\n",
        "isOnColab = True # CHANGE THIS VARIABLE IF RUNNING ON DATAPROC\n",
        "\n",
        "path = '/content/drive/MyDrive/datasets/dsnd-sparkify/event_labeled.parquet' if isOnColab else 'gs://udacity-dsnd/event_labeled.parquet'\n",
        "df = spark.read.parquet(path)\n",
        "path = '/content/drive/MyDrive/datasets/dsnd-sparkify/ml_df.parquet' if isOnColab else 'gs://udacity-dsnd/ml_df.parquet'\n",
        "ml_df = spark.read.parquet(path)"
      ],
      "execution_count": 5,
      "outputs": []
    },
    {
      "cell_type": "code",
      "metadata": {
        "id": "IMpAJ8oZawJd",
        "colab": {
          "base_uri": "https://localhost:8080/",
          "height": 389
        },
        "outputId": "6f68cdae-9e58-470f-e8cd-eb268c4d6311"
      },
      "source": [
        "ml_df.limit(5).toPandas()"
      ],
      "execution_count": 6,
      "outputs": [
        {
          "output_type": "execute_result",
          "data": {
            "text/html": [
              "<div>\n",
              "<style scoped>\n",
              "    .dataframe tbody tr th:only-of-type {\n",
              "        vertical-align: middle;\n",
              "    }\n",
              "\n",
              "    .dataframe tbody tr th {\n",
              "        vertical-align: top;\n",
              "    }\n",
              "\n",
              "    .dataframe thead th {\n",
              "        text-align: right;\n",
              "    }\n",
              "</style>\n",
              "<table border=\"1\" class=\"dataframe\">\n",
              "  <thead>\n",
              "    <tr style=\"text-align: right;\">\n",
              "      <th></th>\n",
              "      <th>userId</th>\n",
              "      <th>up_ts</th>\n",
              "      <th>is_churn</th>\n",
              "      <th>song_count</th>\n",
              "      <th>subs_duration</th>\n",
              "      <th>song_rate</th>\n",
              "      <th>n_playlist</th>\n",
              "      <th>thumbs_down</th>\n",
              "      <th>thumbs_up</th>\n",
              "      <th>avg_sess_len</th>\n",
              "      <th>sess_count</th>\n",
              "      <th>ipad</th>\n",
              "      <th>iphone</th>\n",
              "      <th>linux</th>\n",
              "      <th>macos</th>\n",
              "      <th>windows</th>\n",
              "      <th>n_error</th>\n",
              "      <th>n_friend_add</th>\n",
              "      <th>n_cancel_page</th>\n",
              "      <th>n_unq_song</th>\n",
              "      <th>n_unq_artist</th>\n",
              "    </tr>\n",
              "  </thead>\n",
              "  <tbody>\n",
              "    <tr>\n",
              "      <th>0</th>\n",
              "      <td>1071843</td>\n",
              "      <td>2018-11-08 13:16:59</td>\n",
              "      <td>False</td>\n",
              "      <td>1190</td>\n",
              "      <td>22</td>\n",
              "      <td>54.090909</td>\n",
              "      <td>39</td>\n",
              "      <td>6</td>\n",
              "      <td>51</td>\n",
              "      <td>27020.272727</td>\n",
              "      <td>11</td>\n",
              "      <td>False</td>\n",
              "      <td>False</td>\n",
              "      <td>False</td>\n",
              "      <td>True</td>\n",
              "      <td>False</td>\n",
              "      <td>1</td>\n",
              "      <td>32</td>\n",
              "      <td>0</td>\n",
              "      <td>1104</td>\n",
              "      <td>902</td>\n",
              "    </tr>\n",
              "    <tr>\n",
              "      <th>1</th>\n",
              "      <td>1120784</td>\n",
              "      <td>2018-10-11 14:16:28</td>\n",
              "      <td>False</td>\n",
              "      <td>1502</td>\n",
              "      <td>50</td>\n",
              "      <td>30.040000</td>\n",
              "      <td>45</td>\n",
              "      <td>17</td>\n",
              "      <td>122</td>\n",
              "      <td>14162.807692</td>\n",
              "      <td>26</td>\n",
              "      <td>False</td>\n",
              "      <td>False</td>\n",
              "      <td>False</td>\n",
              "      <td>False</td>\n",
              "      <td>True</td>\n",
              "      <td>2</td>\n",
              "      <td>24</td>\n",
              "      <td>0</td>\n",
              "      <td>1357</td>\n",
              "      <td>1042</td>\n",
              "    </tr>\n",
              "    <tr>\n",
              "      <th>2</th>\n",
              "      <td>1128522</td>\n",
              "      <td>2018-11-13 17:46:22</td>\n",
              "      <td>True</td>\n",
              "      <td>203</td>\n",
              "      <td>2</td>\n",
              "      <td>101.500000</td>\n",
              "      <td>9</td>\n",
              "      <td>6</td>\n",
              "      <td>12</td>\n",
              "      <td>17188.666667</td>\n",
              "      <td>3</td>\n",
              "      <td>False</td>\n",
              "      <td>False</td>\n",
              "      <td>False</td>\n",
              "      <td>True</td>\n",
              "      <td>False</td>\n",
              "      <td>0</td>\n",
              "      <td>4</td>\n",
              "      <td>0</td>\n",
              "      <td>198</td>\n",
              "      <td>190</td>\n",
              "    </tr>\n",
              "    <tr>\n",
              "      <th>3</th>\n",
              "      <td>1130061</td>\n",
              "      <td>2018-10-11 20:04:50</td>\n",
              "      <td>False</td>\n",
              "      <td>96</td>\n",
              "      <td>50</td>\n",
              "      <td>1.920000</td>\n",
              "      <td>4</td>\n",
              "      <td>4</td>\n",
              "      <td>3</td>\n",
              "      <td>11930.500000</td>\n",
              "      <td>2</td>\n",
              "      <td>False</td>\n",
              "      <td>False</td>\n",
              "      <td>False</td>\n",
              "      <td>True</td>\n",
              "      <td>False</td>\n",
              "      <td>0</td>\n",
              "      <td>2</td>\n",
              "      <td>1</td>\n",
              "      <td>96</td>\n",
              "      <td>92</td>\n",
              "    </tr>\n",
              "    <tr>\n",
              "      <th>4</th>\n",
              "      <td>1135039</td>\n",
              "      <td>2018-10-04 11:31:06</td>\n",
              "      <td>False</td>\n",
              "      <td>643</td>\n",
              "      <td>57</td>\n",
              "      <td>11.280702</td>\n",
              "      <td>29</td>\n",
              "      <td>4</td>\n",
              "      <td>49</td>\n",
              "      <td>22156.285714</td>\n",
              "      <td>7</td>\n",
              "      <td>False</td>\n",
              "      <td>False</td>\n",
              "      <td>False</td>\n",
              "      <td>False</td>\n",
              "      <td>True</td>\n",
              "      <td>2</td>\n",
              "      <td>12</td>\n",
              "      <td>0</td>\n",
              "      <td>611</td>\n",
              "      <td>513</td>\n",
              "    </tr>\n",
              "  </tbody>\n",
              "</table>\n",
              "</div>"
            ],
            "text/plain": [
              "    userId               up_ts  ...  n_unq_song  n_unq_artist\n",
              "0  1071843 2018-11-08 13:16:59  ...        1104           902\n",
              "1  1120784 2018-10-11 14:16:28  ...        1357          1042\n",
              "2  1128522 2018-11-13 17:46:22  ...         198           190\n",
              "3  1130061 2018-10-11 20:04:50  ...          96            92\n",
              "4  1135039 2018-10-04 11:31:06  ...         611           513\n",
              "\n",
              "[5 rows x 21 columns]"
            ]
          },
          "metadata": {
            "tags": []
          },
          "execution_count": 6
        }
      ]
    },
    {
      "cell_type": "markdown",
      "metadata": {
        "id": "3yzumR-LvVNv"
      },
      "source": [
        "### Descriptive Analysis\n",
        "after load the data into variable, we produce descriptive analytic."
      ]
    },
    {
      "cell_type": "code",
      "metadata": {
        "id": "FCKW5PZ8bTvX",
        "colab": {
          "base_uri": "https://localhost:8080/",
          "height": 480
        },
        "outputId": "d840ec71-544c-4e45-aecd-49a1eeaf6931"
      },
      "source": [
        "# most popular artist\n",
        "df.groupby(\"artist\").agg(F.count(\"artist\")).sort(F.col(\"count(artist)\"), ascending=False).limit(10) \\\n",
        "    .toPandas().plot.bar(x=\"artist\", y=\"count(artist)\")"
      ],
      "execution_count": 7,
      "outputs": [
        {
          "output_type": "execute_result",
          "data": {
            "text/plain": [
              "<matplotlib.axes._subplots.AxesSubplot at 0x7fd62e210f50>"
            ]
          },
          "metadata": {
            "tags": []
          },
          "execution_count": 7
        },
        {
          "output_type": "stream",
          "text": [
            "/usr/local/lib/python3.7/dist-packages/matplotlib/backends/backend_agg.py:214: RuntimeWarning: Glyph 131 missing from current font.\n",
            "  font.set_text(s, 0.0, flags=flags)\n",
            "/usr/local/lib/python3.7/dist-packages/matplotlib/backends/backend_agg.py:183: RuntimeWarning: Glyph 131 missing from current font.\n",
            "  font.set_text(s, 0, flags=flags)\n"
          ],
          "name": "stderr"
        },
        {
          "output_type": "display_data",
          "data": {
            "image/png": "[encoded data removed]",
            "text/plain": [
              "<Figure size 432x288 with 1 Axes>"
            ]
          },
          "metadata": {
            "tags": [],
            "needs_background": "light"
          }
        }
      ]
    },
    {
      "cell_type": "code",
      "metadata": {
        "id": "T4PvD22mc0bQ",
        "colab": {
          "base_uri": "https://localhost:8080/",
          "height": 625
        },
        "outputId": "c6830d55-a40a-4959-c3eb-982ce5c6336c"
      },
      "source": [
        "# most played song\n",
        "df.groupby(\"song\").agg(F.count(\"song\")).sort(F.col(\"count(song)\"), ascending=False).limit(10) \\\n",
        "    .toPandas().plot.bar(x=\"song\", y=\"count(song)\")"
      ],
      "execution_count": 8,
      "outputs": [
        {
          "output_type": "execute_result",
          "data": {
            "text/plain": [
              "<matplotlib.axes._subplots.AxesSubplot at 0x7fd62760c550>"
            ]
          },
          "metadata": {
            "tags": []
          },
          "execution_count": 8
        },
        {
          "output_type": "display_data",
          "data": {
            "image/png": "[encoded data removed]",
            "text/plain": [
              "<Figure size 432x288 with 1 Axes>"
            ]
          },
          "metadata": {
            "tags": [],
            "needs_background": "light"
          }
        }
      ]
    },
    {
      "cell_type": "code",
      "metadata": {
        "id": "DzoJCqdWdKoz",
        "colab": {
          "base_uri": "https://localhost:8080/",
          "height": 265
        },
        "outputId": "fb3f2742-083c-4656-90f0-f14610104e2e"
      },
      "source": [
        "# proportion of gender\n",
        "df.groupby(\"gender\").agg(F.count(\"gender\")) \\\n",
        "    .toPandas().groupby(\"gender\").sum().plot.pie(y=\"count(gender)\")"
      ],
      "execution_count": 9,
      "outputs": [
        {
          "output_type": "execute_result",
          "data": {
            "text/plain": [
              "<matplotlib.axes._subplots.AxesSubplot at 0x7fd62730d390>"
            ]
          },
          "metadata": {
            "tags": []
          },
          "execution_count": 9
        },
        {
          "output_type": "display_data",
          "data": {
            "image/png": "[encoded data removed]",
            "text/plain": [
              "<Figure size 432x288 with 1 Axes>"
            ]
          },
          "metadata": {
            "tags": []
          }
        }
      ]
    },
    {
      "cell_type": "code",
      "metadata": {
        "id": "A2c53sePrrqm",
        "colab": {
          "base_uri": "https://localhost:8080/"
        },
        "outputId": "c52f4ff8-fc75-43b6-c1ff-410c923f3ab3"
      },
      "source": [
        "#number of user\n",
        "df.select(\"userId\").distinct().count()"
      ],
      "execution_count": 10,
      "outputs": [
        {
          "output_type": "execute_result",
          "data": {
            "text/plain": [
              "12082"
            ]
          },
          "metadata": {
            "tags": []
          },
          "execution_count": 10
        }
      ]
    },
    {
      "cell_type": "code",
      "metadata": {
        "id": "bNqBbt2yfoLc",
        "colab": {
          "base_uri": "https://localhost:8080/"
        },
        "outputId": "91caef37-4b97-4bf7-c6d9-c6bdfb58c754"
      },
      "source": [
        "#number of premium user\n",
        "df.filter(df.page.isin([\"Submit Upgrade\", \"Submit Downgrade\"])) \\\n",
        "    .groupby(\"userId\").pivot(\"page\").agg(F.count(\"page\")) \\\n",
        "    .agg(F.count(F.col(\"Submit Downgrade\")), F.count(F.col(\"Submit Upgrade\"))) \\\n",
        "    .show(5)"
      ],
      "execution_count": 11,
      "outputs": [
        {
          "output_type": "stream",
          "text": [
            "+-----------------------+---------------------+\n",
            "|count(Submit Downgrade)|count(Submit Upgrade)|\n",
            "+-----------------------+---------------------+\n",
            "|                   3881|                12082|\n",
            "+-----------------------+---------------------+\n",
            "\n"
          ],
          "name": "stdout"
        }
      ]
    },
    {
      "cell_type": "code",
      "metadata": {
        "id": "87s9Ebfeltbr",
        "colab": {
          "base_uri": "https://localhost:8080/"
        },
        "outputId": "1a580f98-bd2e-473e-c559-f3e2127eff1b"
      },
      "source": [
        "# traffic proportion\n",
        "df.groupby(\"auth\").agg(F.count(\"auth\")).show()"
      ],
      "execution_count": 12,
      "outputs": [
        {
          "output_type": "stream",
          "text": [
            "+---------+-----------+\n",
            "|     auth|count(auth)|\n",
            "+---------+-----------+\n",
            "|Cancelled|       2568|\n",
            "|Logged In|   15151474|\n",
            "+---------+-----------+\n",
            "\n"
          ],
          "name": "stdout"
        }
      ]
    },
    {
      "cell_type": "code",
      "metadata": {
        "id": "SP326C-3n5gh",
        "colab": {
          "base_uri": "https://localhost:8080/",
          "height": 295
        },
        "outputId": "22dba814-a24b-49c6-af9a-c2f9cf587cd9"
      },
      "source": [
        "# user subscription duration\n",
        "churn_pd = ml_df.select([\"is_churn\", \"subs_duration\"]).toPandas()\n",
        "\n",
        "plt.hist(churn_pd['subs_duration'][churn_pd['is_churn'] == True], bins=60, alpha=.6, label='churn')\n",
        "plt.hist(churn_pd['subs_duration'][churn_pd['is_churn'] == False], bins=60, alpha=.6, label='not churn')\n",
        "plt.legend()\n",
        "plt.title(\"Subscription duration distribution\")\n",
        "plt.xlabel(\"sub duration\")\n",
        "plt.ylabel(\"frequency\")\n",
        "plt.show()"
      ],
      "execution_count": 13,
      "outputs": [
        {
          "output_type": "display_data",
          "data": {
            "image/png": "[encoded data removed]",
            "text/plain": [
              "<Figure size 432x288 with 1 Axes>"
            ]
          },
          "metadata": {
            "tags": [],
            "needs_background": "light"
          }
        }
      ]
    },
    {
      "cell_type": "code",
      "metadata": {
        "id": "Qyj-od4aoWIt",
        "outputId": "aa377e1e-3923-40d4-cb15-093bc4010b11",
        "colab": {
          "base_uri": "https://localhost:8080/",
          "height": 265
        }
      },
      "source": [
        "# prportion of used device\n",
        "device_df = ml_df.select([\"userId\",\"ipad\", \"iphone\", \"macos\", \"linux\", \"windows\"]) \\\n",
        "    .toPandas().melt(id_vars=['userId'], var_name=\"device\", value_name=\"bool\")\n",
        "\n",
        "device_df[device_df['bool']][[\"device\", \"userId\"]].groupby(\"device\").count() \\\n",
        "    .plot.pie(y=\"userId\")"
      ],
      "execution_count": 23,
      "outputs": [
        {
          "output_type": "execute_result",
          "data": {
            "text/plain": [
              "<matplotlib.axes._subplots.AxesSubplot at 0x7fd62148dc50>"
            ]
          },
          "metadata": {
            "tags": []
          },
          "execution_count": 23
        },
        {
          "output_type": "display_data",
          "data": {
            "image/png": "[encoded data removed]",
            "text/plain": [
              "<Figure size 432x288 with 1 Axes>"
            ]
          },
          "metadata": {
            "tags": []
          }
        }
      ]
    }
  ]
}