{
  "nbformat": 4,
  "nbformat_minor": 0,
  "metadata": {
    "kernelspec": {
      "name": "python3",
      "display_name": "Python 3.8.5 64-bit",
      "metadata": {
        "interpreter": {
          "hash": "916dbcbb3f70747c44a77c7bcd40155683ae19c65e1c03b4aa3499c5328201f1"
        }
      }
    },
    "language_info": {
      "codemirror_mode": {
        "name": "ipython",
        "version": 3
      },
      "file_extension": ".py",
      "mimetype": "text/x-python",
      "name": "python",
      "nbconvert_exporter": "python",
      "pygments_lexer": "ipython3",
      "version": "3.8.5-final"
    },
    "colab": {
      "name": "ML_Pipeline.ipynb",
      "provenance": []
    }
  },
  "cells": [
    {
      "cell_type": "markdown",
      "metadata": {
        "id": "oY5FZrSm0qqt"
      },
      "source": [
        "# ML Pipeline Preparation\n",
        "Follow the instructions below to help you create your ML pipeline.\n",
        "### 1. Import libraries and load data from database.\n",
        "- Import Python libraries\n",
        "- Load dataset from database with [`read_sql_table`](https://pandas.pydata.org/pandas-docs/stable/generated/pandas.read_sql_table.html)\n",
        "- Define feature and target variables X and Y"
      ]
    },
    {
      "cell_type": "code",
      "metadata": {
        "colab": {
          "base_uri": "https://localhost:8080/"
        },
        "id": "l2xnTvjh0qqw",
        "outputId": "d77520f6-d9c6-4741-f792-aed87f81a59d"
      },
      "source": [
        "import nltk\n",
        "nltk.download(['punkt', 'stopwords', 'wordnet', 'averaged_perceptron_tagger'])"
      ],
      "execution_count": 1,
      "outputs": [
        {
          "output_type": "stream",
          "text": [
            "[nltk_data] Downloading package punkt to /root/nltk_data...\n",
            "[nltk_data]   Package punkt is already up-to-date!\n",
            "[nltk_data] Downloading package stopwords to /root/nltk_data...\n",
            "[nltk_data]   Package stopwords is already up-to-date!\n",
            "[nltk_data] Downloading package wordnet to /root/nltk_data...\n",
            "[nltk_data]   Package wordnet is already up-to-date!\n",
            "[nltk_data] Downloading package averaged_perceptron_tagger to\n",
            "[nltk_data]     /root/nltk_data...\n",
            "[nltk_data]   Package averaged_perceptron_tagger is already up-to-\n",
            "[nltk_data]       date!\n"
          ],
          "name": "stdout"
        },
        {
          "output_type": "execute_result",
          "data": {
            "text/plain": [
              "True"
            ]
          },
          "metadata": {
            "tags": []
          },
          "execution_count": 1
        }
      ]
    },
    {
      "cell_type": "code",
      "metadata": {
        "colab": {
          "base_uri": "https://localhost:8080/"
        },
        "id": "pHZxFlzs1BZz",
        "outputId": "77598c48-9935-4c4a-b326-154fca366e58"
      },
      "source": [
        "from google.colab import drive\r\n",
        "drive.mount('/content/drive')"
      ],
      "execution_count": 2,
      "outputs": [
        {
          "output_type": "stream",
          "text": [
            "Drive already mounted at /content/drive; to attempt to forcibly remount, call drive.mount(\"/content/drive\", force_remount=True).\n"
          ],
          "name": "stdout"
        }
      ]
    },
    {
      "cell_type": "code",
      "metadata": {
        "id": "Be0nHUV20qqx"
      },
      "source": [
        "# import libraries\n",
        "import pandas as pd\n",
        "import numpy as np\n",
        "from sqlalchemy import create_engine\n",
        "import sqlite3 as sq\n",
        "import re\n",
        "import pickle\n",
        "\n",
        "from nltk.tokenize import word_tokenize\n",
        "from nltk.corpus import stopwords\n",
        "from nltk.stem.wordnet import WordNetLemmatizer\n",
        "from nltk.stem.porter import PorterStemmer\n",
        "\n",
        "from sklearn.pipeline import Pipeline, FeatureUnion\n",
        "from sklearn.feature_extraction.text import CountVectorizer, TfidfTransformer\n",
        "from sklearn.multioutput import MultiOutputClassifier\n",
        "from sklearn.ensemble import RandomForestClassifier, ExtraTreesClassifier\n",
        "from sklearn.model_selection import train_test_split\n",
        "from sklearn.metrics import classification_report\n",
        "from sklearn.model_selection import GridSearchCV\n",
        "from sklearn.linear_model import LogisticRegression\n",
        "from sklearn.base import BaseEstimator, TransformerMixin\n",
        "from sklearn.metrics import f1_score"
      ],
      "execution_count": 3,
      "outputs": []
    },
    {
      "cell_type": "code",
      "metadata": {
        "id": "jk5hue7d0qqy"
      },
      "source": [
        "# load cleaned data from database\n",
        "df = pd.read_sql(\"SELECT * FROM messages_and_categories\", sq.connect(\"/content/drive/MyDrive/datasets/ds-data-engineering/Disaster_Messages.db\"))\n",
        "\n",
        "X = df[\"message\"]\n",
        "Y = df.drop([\"message\", \"original\", \"genre\"], axis=1)"
      ],
      "execution_count": 4,
      "outputs": []
    },
    {
      "cell_type": "markdown",
      "metadata": {
        "id": "jK7gUYdO0qq0"
      },
      "source": [
        "### 2. Write a tokenization function to process your text data"
      ]
    },
    {
      "cell_type": "code",
      "metadata": {
        "id": "fy_PrtZN0qq1"
      },
      "source": [
        "def tokenize(text):\n",
        "    '''\n",
        "    PARAMETERS:\n",
        "    text - raw string\n",
        "\n",
        "    RETURN:\n",
        "    tokens - list of token word\n",
        "    '''\n",
        "    # make all lowercase and delete punctuation\n",
        "    text = re.sub(r\"[^a-zA-Z0-9]\", \" \", text.lower())\n",
        "\n",
        "    #tokenize and lemmatize\n",
        "    tokens = word_tokenize(text.lower())\n",
        "    tokens = [WordNetLemmatizer().lemmatize(token) for token in tokens]\n",
        "    return tokens"
      ],
      "execution_count": 5,
      "outputs": []
    },
    {
      "cell_type": "markdown",
      "metadata": {
        "id": "2Qa4Aphm0qq2"
      },
      "source": [
        "### 3. Build a machine learning pipeline\n",
        "This machine pipeline should take in the `message` column as input and output classification results on the other 36 categories in the dataset. You may find the [MultiOutputClassifier](http://scikit-learn.org/stable/modules/generated/sklearn.multioutput.MultiOutputClassifier.html) helpful for predicting multiple target variables."
      ]
    },
    {
      "cell_type": "code",
      "metadata": {
        "id": "VoxtLG9Q0qq2"
      },
      "source": [
        "pipeline = Pipeline([\n",
        "    ('vect', CountVectorizer(tokenizer=tokenize)),\n",
        "    ('tfidf', TfidfTransformer()),\n",
        "    ('clf', MultiOutputClassifier(RandomForestClassifier()))\n",
        "])"
      ],
      "execution_count": 6,
      "outputs": []
    },
    {
      "cell_type": "markdown",
      "metadata": {
        "id": "gowWDjy40qq3"
      },
      "source": [
        "### 4. Train pipeline\n",
        "- Split data into train and test sets\n",
        "- Train pipeline"
      ]
    },
    {
      "cell_type": "markdown",
      "metadata": {
        "id": "3rEuwWnXAMkE"
      },
      "source": [
        "Create functions for load and save the model to file"
      ]
    },
    {
      "cell_type": "code",
      "metadata": {
        "id": "vBw4Gokb7do4"
      },
      "source": [
        "def load_or_fit(pipeline, file_dir, x, y):\r\n",
        "  '''\r\n",
        "  DESCRIPTION:\r\n",
        "  Check if file directory exist. if exist, load the file to model.\\\r\n",
        "  if not, train the pipeline\r\n",
        "\r\n",
        "  PARAMETERS:\r\n",
        "  pipeline (Pipeline) - Pipeline Object\r\n",
        "  file_dir (str) - file directory\r\n",
        "  x (DataFrame) - X value for training\r\n",
        "  y (DataFrame) - Y value for training\r\n",
        "\r\n",
        "  RETURN:\r\n",
        "  pipeline (Pipeline) - Trained pipeline\r\n",
        "  '''\r\n",
        "\r\n",
        "  try:\r\n",
        "    file = open(file_dir)\r\n",
        "    print('Load from file')\r\n",
        "    pipeline = pickle.load(open(file_dir, \"rb\"))\r\n",
        "  except:\r\n",
        "    print('Train the model')\r\n",
        "    pipeline.fit(x,y)\r\n",
        "  \r\n",
        "  return pipeline"
      ],
      "execution_count": 7,
      "outputs": []
    },
    {
      "cell_type": "code",
      "metadata": {
        "id": "KhMhARtG-X6v"
      },
      "source": [
        "def save_model(obj, file_dir):\r\n",
        "  '''\r\n",
        "  PARAMETERS:\r\n",
        "  pipeline (Pipeline) - Pipeline Object\r\n",
        "  file_dir (str) - file directory\r\n",
        "  \r\n",
        "  '''\r\n",
        "  with open(file_dir, 'wb') as dir:\r\n",
        "    pickle.dump(obj, dir)"
      ],
      "execution_count": 8,
      "outputs": []
    },
    {
      "cell_type": "markdown",
      "metadata": {
        "id": "XPoa1MAPASvl"
      },
      "source": [
        "split into train and test dataset"
      ]
    },
    {
      "cell_type": "code",
      "metadata": {
        "id": "6-b_g0iu0qq4"
      },
      "source": [
        "x_train, x_test, y_train, y_test = train_test_split(X, Y, random_state=0)"
      ],
      "execution_count": 9,
      "outputs": []
    },
    {
      "cell_type": "markdown",
      "metadata": {
        "id": "mjiAL6b6Abtq"
      },
      "source": [
        "train or load the model"
      ]
    },
    {
      "cell_type": "code",
      "metadata": {
        "colab": {
          "base_uri": "https://localhost:8080/"
        },
        "id": "ZIfD4XTY9ojD",
        "outputId": "ef7a6b5c-0164-4be1-feb2-cf2a083eeb38"
      },
      "source": [
        "model1_dir = r'/content/drive/MyDrive/datasets/ds-data-engineering/model1.pickle'\r\n",
        "pipeline = load_or_fit(pipeline, model1_dir, x_train, y_train)"
      ],
      "execution_count": 10,
      "outputs": [
        {
          "output_type": "stream",
          "text": [
            "Train the model\n"
          ],
          "name": "stdout"
        }
      ]
    },
    {
      "cell_type": "markdown",
      "metadata": {
        "id": "6rNZn55q0qq4"
      },
      "source": [
        "### 5. Test your model\n",
        "Report the f1 score, precision and recall for each output category of the dataset. You can do this by iterating through the columns and calling sklearn's `classification_report` on each."
      ]
    },
    {
      "cell_type": "code",
      "metadata": {
        "id": "QonQhl1d0qq5"
      },
      "source": [
        "#convert numpy array to DataFrame\r\n",
        "y_preds = pipeline.predict(x_test)\r\n",
        "y_preds = pd.DataFrame(y_preds, columns=y_test.columns)"
      ],
      "execution_count": 11,
      "outputs": []
    },
    {
      "cell_type": "markdown",
      "metadata": {
        "id": "DGHq-Gc5JJ42"
      },
      "source": [
        "create function to calculate the f1_score mean of all columns"
      ]
    },
    {
      "cell_type": "code",
      "metadata": {
        "id": "Dw7qMLr45UXv"
      },
      "source": [
        "def mean_f1(truth, preds):\r\n",
        "  '''\r\n",
        "  PARAMETERS:\r\n",
        "  preds (DataFrame) - DataFrame from prediction\r\n",
        "  truth (DataFrame) - Truth DataFrame\r\n",
        "\r\n",
        "  RETURN:\r\n",
        "  mean (float) - mean of all f1_score from all columns\r\n",
        "  '''\r\n",
        "  f1_score_list = []\r\n",
        "  for col_name in y_preds.columns:\r\n",
        "    f1_score_list.append(f1_score(truth[col_name], preds[col_name], average='weighted'))\r\n",
        "  \r\n",
        "  return np.mean(f1_score_list)"
      ],
      "execution_count": 12,
      "outputs": []
    },
    {
      "cell_type": "code",
      "metadata": {
        "colab": {
          "base_uri": "https://localhost:8080/"
        },
        "id": "zPPXAsVH6mQz",
        "outputId": "1eabb163-ce8c-4fb3-d1af-392fd9d88a92"
      },
      "source": [
        "mean_f1(y_test, y_preds)"
      ],
      "execution_count": 13,
      "outputs": [
        {
          "output_type": "execute_result",
          "data": {
            "text/plain": [
              "0.9308773990395723"
            ]
          },
          "metadata": {
            "tags": []
          },
          "execution_count": 13
        }
      ]
    },
    {
      "cell_type": "code",
      "metadata": {
        "id": "bPQyOb_SaK5d"
      },
      "source": [
        "save_model(pipeline, model1_dir)"
      ],
      "execution_count": 14,
      "outputs": []
    },
    {
      "cell_type": "markdown",
      "metadata": {
        "id": "WNYbdD_v0qq5"
      },
      "source": [
        "### 6. Improve your model\n",
        "Use grid search to find better parameters. "
      ]
    },
    {
      "cell_type": "code",
      "metadata": {
        "id": "Yr94-iXW0qq6"
      },
      "source": [
        "parameters = {\n",
        "    'clf__estimator__n_estimators': [50,100],\n",
        "    'clf__estimator__min_samples_split': [2, 4],\n",
        "    'tfidf__use_idf': [True, False]\n",
        "}\n",
        "\n",
        "cv = GridSearchCV(pipeline, param_grid=parameters)"
      ],
      "execution_count": 15,
      "outputs": []
    },
    {
      "cell_type": "code",
      "metadata": {
        "id": "vv8K3Ka_-cvs",
        "colab": {
          "base_uri": "https://localhost:8080/"
        },
        "outputId": "f2063cb0-f9d4-4bf5-a19a-96c58dcef2e8"
      },
      "source": [
        "model2_dir = r'/content/drive/MyDrive/datasets/ds-data-engineering/model2.pickle'\r\n",
        "cv = load_or_fit(cv, model2_dir, x_train, y_train)"
      ],
      "execution_count": 16,
      "outputs": [
        {
          "output_type": "stream",
          "text": [
            "Train the model\n"
          ],
          "name": "stdout"
        }
      ]
    },
    {
      "cell_type": "markdown",
      "metadata": {
        "id": "pJIRKd2o0qq6"
      },
      "source": [
        "### 7. Test your model\n",
        "Show the accuracy, precision, and recall of the tuned model.  \n",
        "\n",
        "Since this project focuses on code quality, process, and  pipelines, there is no minimum performance metric needed to pass. However, make sure to fine tune your models for accuracy, precision and recall to make your project stand out - especially for your portfolio!"
      ]
    },
    {
      "cell_type": "code",
      "metadata": {
        "id": "a7W32thD0qq7"
      },
      "source": [
        "#convert numpy array to DataFrame\r\n",
        "y_preds2 = cv.predict(x_test)\r\n",
        "y_preds2 = pd.DataFrame(y_preds, columns=y_test.columns)"
      ],
      "execution_count": 17,
      "outputs": []
    },
    {
      "cell_type": "code",
      "metadata": {
        "id": "AGa3ShGorE30",
        "colab": {
          "base_uri": "https://localhost:8080/"
        },
        "outputId": "95293660-9c44-4810-aafc-d950ab6a202a"
      },
      "source": [
        "mean_f1(y_test, y_preds2)"
      ],
      "execution_count": 18,
      "outputs": [
        {
          "output_type": "execute_result",
          "data": {
            "text/plain": [
              "0.9308773990395723"
            ]
          },
          "metadata": {
            "tags": []
          },
          "execution_count": 18
        }
      ]
    },
    {
      "cell_type": "code",
      "metadata": {
        "id": "cjiS0EEmZ7Fd"
      },
      "source": [
        "#save the GirdSearch\r\n",
        "save_model(cv, model2_dir)\r\n",
        "\r\n",
        "#save the best model\r\n",
        "best_model2_dir = r'/content/drive/MyDrive/datasets/ds-data-engineering/best_model2.pickle'\r\n",
        "save_model(cv.best_estimator_, best_model2_dir)"
      ],
      "execution_count": 19,
      "outputs": []
    },
    {
      "cell_type": "markdown",
      "metadata": {
        "id": "Rw0e82UA0qq7"
      },
      "source": [
        "### 8. Try improving your model further. Here are a few ideas:\n",
        "* try other machine learning algorithms\n",
        "* add other features besides the TF-IDF"
      ]
    },
    {
      "cell_type": "markdown",
      "metadata": {
        "id": "UJ3HCfADCppf"
      },
      "source": [
        "Create another feature"
      ]
    },
    {
      "cell_type": "code",
      "metadata": {
        "id": "tAEd9aTtxjUg"
      },
      "source": [
        "class StartingVerbExtractor(BaseEstimator, TransformerMixin):\r\n",
        "\r\n",
        "  def starting_verb(self, text):\r\n",
        "    sentence_list = nltk.sent_tokenize(text)\r\n",
        "    for sentence in sentence_list:\r\n",
        "      pos_tags = nltk.pos_tag(tokenize(sentence))\r\n",
        "      if len(pos_tags) != 0:\r\n",
        "        first_word, first_tag = pos_tags[0]\r\n",
        "      else:\r\n",
        "        first_word, first_tag = (' ', ' ')\r\n",
        "      if first_tag in ['VB', 'VBP'] or first_word == 'RT':\r\n",
        "        return True\r\n",
        "    return False\r\n",
        "\r\n",
        "  def fit(self, x, y=None):\r\n",
        "    return self\r\n",
        "\r\n",
        "  def transform(self, X):\r\n",
        "    X_tagged = pd.Series(X).apply(self.starting_verb)\r\n",
        "    return pd.DataFrame(X_tagged)"
      ],
      "execution_count": 20,
      "outputs": []
    },
    {
      "cell_type": "code",
      "metadata": {
        "id": "M5qCZUHl0qq8"
      },
      "source": [
        "pipeline2 = Pipeline([\r\n",
        "  ('feature_union', FeatureUnion([\r\n",
        "    ('text_pipeline', Pipeline([\r\n",
        "      ('vect', CountVectorizer(tokenizer=tokenize)),\r\n",
        "      ('tfidf', TfidfTransformer())\r\n",
        "    ])),\r\n",
        "    ('verb_extractor', StartingVerbExtractor())                   \r\n",
        "  ])),\r\n",
        "  ('clf', MultiOutputClassifier(ExtraTreesClassifier()))\r\n",
        "])"
      ],
      "execution_count": 21,
      "outputs": []
    },
    {
      "cell_type": "code",
      "metadata": {
        "id": "1ha90owdyvsE",
        "colab": {
          "base_uri": "https://localhost:8080/"
        },
        "outputId": "581a63de-1304-496a-e309-421b8354d52b"
      },
      "source": [
        "model3_dir = r'/content/drive/MyDrive/datasets/ds-data-engineering/model3.pickle'\r\n",
        "pipeline2 = load_or_fit(pipeline2, model3_dir, x_train, y_train)"
      ],
      "execution_count": 22,
      "outputs": [
        {
          "output_type": "stream",
          "text": [
            "Train the model\n"
          ],
          "name": "stdout"
        }
      ]
    },
    {
      "cell_type": "code",
      "metadata": {
        "id": "kdqy35nY9k--"
      },
      "source": [
        "#convert numpy array to DataFrame\r\n",
        "y_preds3 = pd.DataFrame(pipeline2.predict(x_test), columns=y_test.columns)"
      ],
      "execution_count": 23,
      "outputs": []
    },
    {
      "cell_type": "code",
      "metadata": {
        "id": "vDGiwYmZ9u2V",
        "colab": {
          "base_uri": "https://localhost:8080/"
        },
        "outputId": "9b20cad4-4024-4e4e-be6f-d92bb2c53c26"
      },
      "source": [
        "mean_f1(y_test, y_preds3)"
      ],
      "execution_count": 24,
      "outputs": [
        {
          "output_type": "execute_result",
          "data": {
            "text/plain": [
              "0.9288810605150856"
            ]
          },
          "metadata": {
            "tags": []
          },
          "execution_count": 24
        }
      ]
    },
    {
      "cell_type": "markdown",
      "metadata": {
        "id": "ZCNtyeh50qq8"
      },
      "source": [
        "### 9. Export your model as a pickle file"
      ]
    },
    {
      "cell_type": "code",
      "metadata": {
        "id": "nAPcdLgv0qq8"
      },
      "source": [
        "save_model(pipeline2, model3_dir)"
      ],
      "execution_count": 25,
      "outputs": []
    },
    {
      "cell_type": "markdown",
      "metadata": {
        "id": "CvM9S6GL0qq9"
      },
      "source": [
        "### 10. Use this notebook to complete `train.py`\n",
        "Use the template file attached in the Resources folder to write a script that runs the steps above to create a database and export a model based on a new dataset specified by the user."
      ]
    },
    {
      "cell_type": "markdown",
      "metadata": {
        "id": "LCI7uK9kFmEI"
      },
      "source": [
        "###11. Conclusion\r\n",
        "Result:\r\n",
        "- model 1 f1_score = 0.93087\r\n",
        "- model 2 f1_score = 0.93087\r\n",
        "- model 3 f1_score = 0.92888\r\n",
        "\r\n",
        "since the models with highest f1 score are model 1 and model 2, so we will use model 1 for the backend of the web app.\r\n",
        "\r\n",
        "\r\n",
        "you can download the model [here](https://drive.google.com/drive/folders/1010BLJ5g3fhpq25OZ08QJPSMHjiInJ3t?usp=sharing)"
      ]
    },
    {
      "cell_type": "code",
      "metadata": {
        "id": "dPVNnABx0qq9"
      },
      "source": [
        ""
      ],
      "execution_count": 25,
      "outputs": []
    }
  ]
}